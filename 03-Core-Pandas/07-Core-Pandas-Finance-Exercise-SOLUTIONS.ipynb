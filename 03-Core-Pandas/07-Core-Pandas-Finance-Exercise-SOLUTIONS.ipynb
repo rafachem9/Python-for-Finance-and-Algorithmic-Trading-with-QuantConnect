{
 "cells": [
  {
   "cell_type": "markdown",
   "metadata": {},
   "source": [
    "___\n",
    "\n",
    "<a href='http://www.pieriandata.com'><img src='../Pierian_Data_Logo.png'/></a>\n",
    "___\n",
    "<center><em>Copyright by Pierian Data Inc.</em></center>\n",
    "<center><em>For more information, visit us at <a href='http://www.pieriandata.com'>www.pieriandata.com</a></em></center>"
   ],
   "id": "b2706c86d44f7dcc"
  },
  {
   "cell_type": "markdown",
   "metadata": {},
   "source": [
    "# Pandas Project Exercise - Solutions\n",
    "\n",
    "# The Data\n",
    "\n",
    "The dataset contains a list of all stocks included in the SP500 and associated key financials. <br />\n",
    "\n",
    "Note that there are multiple viable solutions for most of the tasks!\n",
    "\n",
    "\n",
    "Acknowledgements\n",
    "----------------------------\n",
    "The dataset was originally provided on https://datahub.io/core/s-and-p-500-companies-financials and is licensed under Open Data Commons Public Domain Dedication and License. (https://opendatacommons.org/licenses/pddl/1-0/)"
   ],
   "id": "921ffdabbe89e00e"
  },
  {
   "cell_type": "markdown",
   "metadata": {},
   "source": [
    "**Task: Import the necessary libraries**"
   ],
   "id": "c98394df38e1cfe0"
  },
  {
   "cell_type": "code",
   "execution_count": 1,
   "metadata": {
    "ExecuteTime": {
     "end_time": "2023-12-23T23:02:19.598161319Z",
     "start_time": "2023-12-23T23:02:19.575075824Z"
    }
   },
   "outputs": [],
   "source": [
    "# CODE HERE"
   ],
   "id": "3372f2f82bd3b332"
  },
  {
   "cell_type": "code",
   "execution_count": 2,
   "metadata": {
    "ExecuteTime": {
     "end_time": "2023-12-23T23:02:20.516321400Z",
     "start_time": "2023-12-23T23:02:19.585786736Z"
    }
   },
   "outputs": [],
   "source": [
    "import pandas as pd"
   ],
   "id": "f1dd7dbb75f3c383"
  },
  {
   "cell_type": "markdown",
   "metadata": {},
   "source": [
    "**Task: Read the two datasets provided in the archive directory (constituents.csv and constituents-financials.csv)**"
   ],
   "id": "791d40f679b21c3d"
  },
  {
   "cell_type": "code",
   "execution_count": 3,
   "metadata": {
    "ExecuteTime": {
     "end_time": "2023-12-23T23:02:20.537502523Z",
     "start_time": "2023-12-23T23:02:20.364623866Z"
    }
   },
   "outputs": [],
   "source": [
    "# CODE HERE"
   ],
   "id": "32789141e493879d"
  },
  {
   "cell_type": "code",
   "execution_count": 4,
   "metadata": {
    "ExecuteTime": {
     "end_time": "2023-12-23T23:02:20.560707674Z",
     "start_time": "2023-12-23T23:02:20.379602780Z"
    }
   },
   "outputs": [],
   "source": [
    "constituents = pd.read_csv(\"constituents.csv\")\n",
    "financials = pd.read_csv(\"constituents-financials.csv\")\n"
   ],
   "id": "e90ab06fcf6cbdc8"
  },
  {
   "cell_type": "markdown",
   "metadata": {},
   "source": [
    "**Task: List all columns of the two datasets. Additionally retrieve the datatype for each column**"
   ],
   "id": "a2e72c68e6d6cda3"
  },
  {
   "cell_type": "code",
   "execution_count": 5,
   "metadata": {
    "ExecuteTime": {
     "end_time": "2023-12-23T23:02:20.665498946Z",
     "start_time": "2023-12-23T23:02:20.435983146Z"
    }
   },
   "outputs": [],
   "source": [
    "# CODE HERE"
   ],
   "id": "d93271708f127e07"
  },
  {
   "cell_type": "code",
   "execution_count": 6,
   "metadata": {
    "ExecuteTime": {
     "end_time": "2023-12-23T23:02:20.746599272Z",
     "start_time": "2023-12-23T23:02:20.436335018Z"
    }
   },
   "outputs": [
    {
     "name": "stdout",
     "output_type": "stream",
     "text": [
      "<class 'pandas.core.frame.DataFrame'>\n",
      "RangeIndex: 505 entries, 0 to 504\n",
      "Data columns (total 3 columns):\n",
      " #   Column  Non-Null Count  Dtype \n",
      "---  ------  --------------  ----- \n",
      " 0   Symbol  505 non-null    object\n",
      " 1   Name    505 non-null    object\n",
      " 2   Sector  505 non-null    object\n",
      "dtypes: object(3)\n",
      "memory usage: 12.0+ KB\n"
     ]
    }
   ],
   "source": [
    "constituents.info()"
   ],
   "id": "b191db7a9c4b25a6"
  },
  {
   "cell_type": "code",
   "execution_count": 7,
   "metadata": {
    "ExecuteTime": {
     "end_time": "2023-12-23T23:02:20.754213071Z",
     "start_time": "2023-12-23T23:02:20.457643130Z"
    }
   },
   "outputs": [
    {
     "name": "stdout",
     "output_type": "stream",
     "text": [
      "<class 'pandas.core.frame.DataFrame'>\n",
      "RangeIndex: 505 entries, 0 to 504\n",
      "Data columns (total 12 columns):\n",
      " #   Column          Non-Null Count  Dtype  \n",
      "---  ------          --------------  -----  \n",
      " 0   Symbol          505 non-null    object \n",
      " 1   Price           505 non-null    float64\n",
      " 2   Price/Earnings  503 non-null    float64\n",
      " 3   Dividend Yield  505 non-null    float64\n",
      " 4   Earnings/Share  505 non-null    float64\n",
      " 5   52 Week Low     505 non-null    float64\n",
      " 6   52 Week High    505 non-null    float64\n",
      " 7   Market Cap      505 non-null    int64  \n",
      " 8   EBITDA          505 non-null    float64\n",
      " 9   Price/Sales     505 non-null    float64\n",
      " 10  Price/Book      497 non-null    float64\n",
      " 11  SEC Filings     505 non-null    object \n",
      "dtypes: float64(9), int64(1), object(2)\n",
      "memory usage: 47.5+ KB\n"
     ]
    }
   ],
   "source": [
    "financials.info()"
   ],
   "id": "b1748fcfc82f86af"
  },
  {
   "cell_type": "markdown",
   "metadata": {},
   "source": [
    "**Task: Print the first 5 rows of both datasets**"
   ],
   "id": "f8a06aaa6d597e8"
  },
  {
   "cell_type": "code",
   "execution_count": 8,
   "metadata": {
    "ExecuteTime": {
     "end_time": "2023-12-23T23:02:20.767871503Z",
     "start_time": "2023-12-23T23:02:20.500239143Z"
    }
   },
   "outputs": [],
   "source": [
    "# CODE HERE"
   ],
   "id": "c139791db9b7d651"
  },
  {
   "cell_type": "code",
   "execution_count": 9,
   "metadata": {
    "ExecuteTime": {
     "end_time": "2023-12-23T23:02:20.861855011Z",
     "start_time": "2023-12-23T23:02:20.500518009Z"
    }
   },
   "outputs": [
    {
     "data": {
      "text/plain": "  Symbol                 Name                  Sector\n0    MMM           3M Company             Industrials\n1    AOS      A.O. Smith Corp             Industrials\n2    ABT  Abbott Laboratories             Health Care\n3   ABBV          AbbVie Inc.             Health Care\n4    ACN        Accenture plc  Information Technology",
      "text/html": "<div>\n<style scoped>\n    .dataframe tbody tr th:only-of-type {\n        vertical-align: middle;\n    }\n\n    .dataframe tbody tr th {\n        vertical-align: top;\n    }\n\n    .dataframe thead th {\n        text-align: right;\n    }\n</style>\n<table border=\"1\" class=\"dataframe\">\n  <thead>\n    <tr style=\"text-align: right;\">\n      <th></th>\n      <th>Symbol</th>\n      <th>Name</th>\n      <th>Sector</th>\n    </tr>\n  </thead>\n  <tbody>\n    <tr>\n      <th>0</th>\n      <td>MMM</td>\n      <td>3M Company</td>\n      <td>Industrials</td>\n    </tr>\n    <tr>\n      <th>1</th>\n      <td>AOS</td>\n      <td>A.O. Smith Corp</td>\n      <td>Industrials</td>\n    </tr>\n    <tr>\n      <th>2</th>\n      <td>ABT</td>\n      <td>Abbott Laboratories</td>\n      <td>Health Care</td>\n    </tr>\n    <tr>\n      <th>3</th>\n      <td>ABBV</td>\n      <td>AbbVie Inc.</td>\n      <td>Health Care</td>\n    </tr>\n    <tr>\n      <th>4</th>\n      <td>ACN</td>\n      <td>Accenture plc</td>\n      <td>Information Technology</td>\n    </tr>\n  </tbody>\n</table>\n</div>"
     },
     "execution_count": 9,
     "metadata": {},
     "output_type": "execute_result"
    }
   ],
   "source": [
    "constituents.head()"
   ],
   "id": "568a16961c38fb53"
  },
  {
   "cell_type": "code",
   "execution_count": 10,
   "metadata": {
    "ExecuteTime": {
     "end_time": "2023-12-23T23:02:20.862711031Z",
     "start_time": "2023-12-23T23:02:20.554724556Z"
    }
   },
   "outputs": [
    {
     "data": {
      "text/plain": "  Symbol   Price  Price/Earnings  Dividend Yield  Earnings/Share  52 Week Low  \\\n0    MMM  222.89           24.31        2.332862            7.92       259.77   \n1    AOS   60.24           27.76        1.147959            1.70        68.39   \n2    ABT   56.27           22.51        1.908982            0.26        64.60   \n3   ABBV  108.48           19.41        2.499560            3.29       125.86   \n4    ACN  150.51           25.47        1.714470            5.44       162.60   \n\n   52 Week High    Market Cap        EBITDA  Price/Sales  Price/Book  \\\n0       175.490  138721055226  9.048000e+09     4.390271       11.34   \n1        48.925   10783419933  6.010000e+08     3.575483        6.35   \n2        42.280  102121042306  5.744000e+09     3.740480        3.19   \n3        60.050  181386347059  1.031000e+10     6.291571       26.14   \n4       114.820   98765855553  5.643228e+09     2.604117       10.62   \n\n                                         SEC Filings  \n0  http://www.sec.gov/cgi-bin/browse-edgar?action...  \n1  http://www.sec.gov/cgi-bin/browse-edgar?action...  \n2  http://www.sec.gov/cgi-bin/browse-edgar?action...  \n3  http://www.sec.gov/cgi-bin/browse-edgar?action...  \n4  http://www.sec.gov/cgi-bin/browse-edgar?action...  ",
      "text/html": "<div>\n<style scoped>\n    .dataframe tbody tr th:only-of-type {\n        vertical-align: middle;\n    }\n\n    .dataframe tbody tr th {\n        vertical-align: top;\n    }\n\n    .dataframe thead th {\n        text-align: right;\n    }\n</style>\n<table border=\"1\" class=\"dataframe\">\n  <thead>\n    <tr style=\"text-align: right;\">\n      <th></th>\n      <th>Symbol</th>\n      <th>Price</th>\n      <th>Price/Earnings</th>\n      <th>Dividend Yield</th>\n      <th>Earnings/Share</th>\n      <th>52 Week Low</th>\n      <th>52 Week High</th>\n      <th>Market Cap</th>\n      <th>EBITDA</th>\n      <th>Price/Sales</th>\n      <th>Price/Book</th>\n      <th>SEC Filings</th>\n    </tr>\n  </thead>\n  <tbody>\n    <tr>\n      <th>0</th>\n      <td>MMM</td>\n      <td>222.89</td>\n      <td>24.31</td>\n      <td>2.332862</td>\n      <td>7.92</td>\n      <td>259.77</td>\n      <td>175.490</td>\n      <td>138721055226</td>\n      <td>9.048000e+09</td>\n      <td>4.390271</td>\n      <td>11.34</td>\n      <td>http://www.sec.gov/cgi-bin/browse-edgar?action...</td>\n    </tr>\n    <tr>\n      <th>1</th>\n      <td>AOS</td>\n      <td>60.24</td>\n      <td>27.76</td>\n      <td>1.147959</td>\n      <td>1.70</td>\n      <td>68.39</td>\n      <td>48.925</td>\n      <td>10783419933</td>\n      <td>6.010000e+08</td>\n      <td>3.575483</td>\n      <td>6.35</td>\n      <td>http://www.sec.gov/cgi-bin/browse-edgar?action...</td>\n    </tr>\n    <tr>\n      <th>2</th>\n      <td>ABT</td>\n      <td>56.27</td>\n      <td>22.51</td>\n      <td>1.908982</td>\n      <td>0.26</td>\n      <td>64.60</td>\n      <td>42.280</td>\n      <td>102121042306</td>\n      <td>5.744000e+09</td>\n      <td>3.740480</td>\n      <td>3.19</td>\n      <td>http://www.sec.gov/cgi-bin/browse-edgar?action...</td>\n    </tr>\n    <tr>\n      <th>3</th>\n      <td>ABBV</td>\n      <td>108.48</td>\n      <td>19.41</td>\n      <td>2.499560</td>\n      <td>3.29</td>\n      <td>125.86</td>\n      <td>60.050</td>\n      <td>181386347059</td>\n      <td>1.031000e+10</td>\n      <td>6.291571</td>\n      <td>26.14</td>\n      <td>http://www.sec.gov/cgi-bin/browse-edgar?action...</td>\n    </tr>\n    <tr>\n      <th>4</th>\n      <td>ACN</td>\n      <td>150.51</td>\n      <td>25.47</td>\n      <td>1.714470</td>\n      <td>5.44</td>\n      <td>162.60</td>\n      <td>114.820</td>\n      <td>98765855553</td>\n      <td>5.643228e+09</td>\n      <td>2.604117</td>\n      <td>10.62</td>\n      <td>http://www.sec.gov/cgi-bin/browse-edgar?action...</td>\n    </tr>\n  </tbody>\n</table>\n</div>"
     },
     "execution_count": 10,
     "metadata": {},
     "output_type": "execute_result"
    }
   ],
   "source": [
    "financials.head()"
   ],
   "id": "b13fe05fd6dd682a"
  },
  {
   "cell_type": "markdown",
   "metadata": {},
   "source": [
    "**Task: Drop the SEC Filings column**"
   ],
   "id": "74c3138f2a2098a5"
  },
  {
   "cell_type": "code",
   "execution_count": 11,
   "metadata": {
    "ExecuteTime": {
     "end_time": "2023-12-23T23:02:20.996279060Z",
     "start_time": "2023-12-23T23:02:20.596331075Z"
    }
   },
   "outputs": [],
   "source": [
    "# CODE HERE"
   ],
   "id": "69e158b0b81e227f"
  },
  {
   "cell_type": "code",
   "execution_count": 12,
   "metadata": {
    "ExecuteTime": {
     "end_time": "2023-12-23T23:02:21.003173037Z",
     "start_time": "2023-12-23T23:02:20.640084159Z"
    }
   },
   "outputs": [],
   "source": [
    "financials = financials.drop(\"SEC Filings\",axis=1)"
   ],
   "id": "f970524a1a5d9ca4"
  },
  {
   "cell_type": "markdown",
   "metadata": {},
   "source": [
    "**Task: Set the Symbol column to the index in the financials dataset**"
   ],
   "id": "4a3b8aa3483ee6b8"
  },
  {
   "cell_type": "code",
   "execution_count": 13,
   "metadata": {
    "ExecuteTime": {
     "end_time": "2023-12-23T23:02:21.052000074Z",
     "start_time": "2023-12-23T23:02:20.640406430Z"
    }
   },
   "outputs": [],
   "source": [
    "# CODE HERE"
   ],
   "id": "cd850937a56238f6"
  },
  {
   "cell_type": "code",
   "execution_count": 14,
   "metadata": {
    "ExecuteTime": {
     "end_time": "2023-12-23T23:02:21.087036227Z",
     "start_time": "2023-12-23T23:02:20.640608977Z"
    }
   },
   "outputs": [],
   "source": [
    "financials.set_index(\"Symbol\", inplace=True)"
   ],
   "id": "390ba2d52f17e134"
  },
  {
   "cell_type": "markdown",
   "metadata": {},
   "source": [
    "**Task: What are the 10 largest companies according to market cap?**"
   ],
   "id": "c5b18976e114eb34"
  },
  {
   "cell_type": "code",
   "execution_count": 15,
   "metadata": {
    "ExecuteTime": {
     "end_time": "2023-12-23T23:02:21.107035582Z",
     "start_time": "2023-12-23T23:02:20.640794638Z"
    }
   },
   "outputs": [],
   "source": [
    "# CODE HERE"
   ],
   "id": "e5b8277e1bfd91f2"
  },
  {
   "cell_type": "code",
   "execution_count": 16,
   "metadata": {
    "ExecuteTime": {
     "end_time": "2023-12-23T23:02:21.135779848Z",
     "start_time": "2023-12-23T23:02:20.640993925Z"
    }
   },
   "outputs": [
    {
     "data": {
      "text/plain": "Symbol\nAAPL     809508034020\nGOOGL    733823966137\nGOOG     728535558140\nMSFT     689978437468\nAMZN     685873374731\nFB       523423036576\nJPM      386613611000\nJNJ      353062464971\nXOM      326148660000\nBAC      321478200969\nName: Market Cap, dtype: int64"
     },
     "execution_count": 16,
     "metadata": {},
     "output_type": "execute_result"
    }
   ],
   "source": [
    "financials[\"Market Cap\"].nlargest(10)"
   ],
   "id": "522bbcb99ecd4479"
  },
  {
   "cell_type": "markdown",
   "metadata": {},
   "source": [
    "**Task: Return all information about the 10 largest companies according by market cap**"
   ],
   "id": "41289b15f23cc838"
  },
  {
   "cell_type": "code",
   "execution_count": 17,
   "metadata": {
    "ExecuteTime": {
     "end_time": "2023-12-23T23:02:21.203945379Z",
     "start_time": "2023-12-23T23:02:20.752938711Z"
    }
   },
   "outputs": [],
   "source": [
    "# CODE HERE"
   ],
   "id": "d96676e65ebdfd5c"
  },
  {
   "cell_type": "code",
   "execution_count": 18,
   "metadata": {
    "ExecuteTime": {
     "end_time": "2023-12-23T23:02:21.513134476Z",
     "start_time": "2023-12-23T23:02:21.197659717Z"
    }
   },
   "outputs": [
    {
     "data": {
      "text/plain": "          Price  Price/Earnings  Dividend Yield  Earnings/Share  52 Week Low  \\\nSymbol                                                                         \nAAPL     155.15           16.86        1.579541            9.20     180.1000   \nGOOGL   1007.71           31.48        0.000000           22.27    1198.0000   \nGOOG    1001.52           40.29        0.000000           22.27    1186.8900   \nMSFT      85.01           25.76        1.874791            2.97      96.0700   \nAMZN    1350.50          296.16        0.000000            6.16    1498.0000   \nFB       171.58           27.90        0.000000            5.39     195.3200   \nJPM      107.88           15.43        1.984584            6.30     117.3529   \nJNJ      126.36           17.31        2.556688            0.39     148.3200   \nXOM       76.07           21.37        4.003120            1.88      89.3000   \nBAC       29.74           16.34        1.536000            1.55      32.6700   \n\n        52 Week High    Market Cap        EBITDA  Price/Sales  Price/Book  \nSymbol                                                                     \nAAPL        131.1200  809508034020  7.938600e+10     3.458609        5.66  \nGOOGL       824.3000  733823966137  3.421700e+10     6.801692        4.70  \nGOOG        803.1903  728535558140  3.271400e+10     6.772653        4.67  \nMSFT         63.2200  689978437468  4.107900e+10     7.113097        9.49  \nAMZN        812.5000  685873374731  1.613200e+10     3.927053       24.28  \nFB          132.4400  523423036576  2.362400e+10    13.241967        7.08  \nJPM          81.6350  386613611000  0.000000e+00     3.371499        1.60  \nJNJ         113.1500  353062464971  2.243000e+10     4.632622        4.74  \nXOM          76.0500  326148660000  3.905200e+10     1.770194        1.85  \nBAC          22.0700  321478200969  0.000000e+00     3.201187        1.24  ",
      "text/html": "<div>\n<style scoped>\n    .dataframe tbody tr th:only-of-type {\n        vertical-align: middle;\n    }\n\n    .dataframe tbody tr th {\n        vertical-align: top;\n    }\n\n    .dataframe thead th {\n        text-align: right;\n    }\n</style>\n<table border=\"1\" class=\"dataframe\">\n  <thead>\n    <tr style=\"text-align: right;\">\n      <th></th>\n      <th>Price</th>\n      <th>Price/Earnings</th>\n      <th>Dividend Yield</th>\n      <th>Earnings/Share</th>\n      <th>52 Week Low</th>\n      <th>52 Week High</th>\n      <th>Market Cap</th>\n      <th>EBITDA</th>\n      <th>Price/Sales</th>\n      <th>Price/Book</th>\n    </tr>\n    <tr>\n      <th>Symbol</th>\n      <th></th>\n      <th></th>\n      <th></th>\n      <th></th>\n      <th></th>\n      <th></th>\n      <th></th>\n      <th></th>\n      <th></th>\n      <th></th>\n    </tr>\n  </thead>\n  <tbody>\n    <tr>\n      <th>AAPL</th>\n      <td>155.15</td>\n      <td>16.86</td>\n      <td>1.579541</td>\n      <td>9.20</td>\n      <td>180.1000</td>\n      <td>131.1200</td>\n      <td>809508034020</td>\n      <td>7.938600e+10</td>\n      <td>3.458609</td>\n      <td>5.66</td>\n    </tr>\n    <tr>\n      <th>GOOGL</th>\n      <td>1007.71</td>\n      <td>31.48</td>\n      <td>0.000000</td>\n      <td>22.27</td>\n      <td>1198.0000</td>\n      <td>824.3000</td>\n      <td>733823966137</td>\n      <td>3.421700e+10</td>\n      <td>6.801692</td>\n      <td>4.70</td>\n    </tr>\n    <tr>\n      <th>GOOG</th>\n      <td>1001.52</td>\n      <td>40.29</td>\n      <td>0.000000</td>\n      <td>22.27</td>\n      <td>1186.8900</td>\n      <td>803.1903</td>\n      <td>728535558140</td>\n      <td>3.271400e+10</td>\n      <td>6.772653</td>\n      <td>4.67</td>\n    </tr>\n    <tr>\n      <th>MSFT</th>\n      <td>85.01</td>\n      <td>25.76</td>\n      <td>1.874791</td>\n      <td>2.97</td>\n      <td>96.0700</td>\n      <td>63.2200</td>\n      <td>689978437468</td>\n      <td>4.107900e+10</td>\n      <td>7.113097</td>\n      <td>9.49</td>\n    </tr>\n    <tr>\n      <th>AMZN</th>\n      <td>1350.50</td>\n      <td>296.16</td>\n      <td>0.000000</td>\n      <td>6.16</td>\n      <td>1498.0000</td>\n      <td>812.5000</td>\n      <td>685873374731</td>\n      <td>1.613200e+10</td>\n      <td>3.927053</td>\n      <td>24.28</td>\n    </tr>\n    <tr>\n      <th>FB</th>\n      <td>171.58</td>\n      <td>27.90</td>\n      <td>0.000000</td>\n      <td>5.39</td>\n      <td>195.3200</td>\n      <td>132.4400</td>\n      <td>523423036576</td>\n      <td>2.362400e+10</td>\n      <td>13.241967</td>\n      <td>7.08</td>\n    </tr>\n    <tr>\n      <th>JPM</th>\n      <td>107.88</td>\n      <td>15.43</td>\n      <td>1.984584</td>\n      <td>6.30</td>\n      <td>117.3529</td>\n      <td>81.6350</td>\n      <td>386613611000</td>\n      <td>0.000000e+00</td>\n      <td>3.371499</td>\n      <td>1.60</td>\n    </tr>\n    <tr>\n      <th>JNJ</th>\n      <td>126.36</td>\n      <td>17.31</td>\n      <td>2.556688</td>\n      <td>0.39</td>\n      <td>148.3200</td>\n      <td>113.1500</td>\n      <td>353062464971</td>\n      <td>2.243000e+10</td>\n      <td>4.632622</td>\n      <td>4.74</td>\n    </tr>\n    <tr>\n      <th>XOM</th>\n      <td>76.07</td>\n      <td>21.37</td>\n      <td>4.003120</td>\n      <td>1.88</td>\n      <td>89.3000</td>\n      <td>76.0500</td>\n      <td>326148660000</td>\n      <td>3.905200e+10</td>\n      <td>1.770194</td>\n      <td>1.85</td>\n    </tr>\n    <tr>\n      <th>BAC</th>\n      <td>29.74</td>\n      <td>16.34</td>\n      <td>1.536000</td>\n      <td>1.55</td>\n      <td>32.6700</td>\n      <td>22.0700</td>\n      <td>321478200969</td>\n      <td>0.000000e+00</td>\n      <td>3.201187</td>\n      <td>1.24</td>\n    </tr>\n  </tbody>\n</table>\n</div>"
     },
     "execution_count": 18,
     "metadata": {},
     "output_type": "execute_result"
    }
   ],
   "source": [
    "financials.sort_values(\"Market Cap\", ascending=False).head(10)"
   ],
   "id": "dc38c4e5177e2347"
  },
  {
   "cell_type": "markdown",
   "metadata": {},
   "source": [
    "Note: The difference between GOOG and GOOGL is, that GOOG shares have no voting rights"
   ],
   "id": "84dcf234d7954aba"
  },
  {
   "cell_type": "markdown",
   "metadata": {},
   "source": [
    "**Task: Drop GOOG**"
   ],
   "id": "f0dc6134d11bc034"
  },
  {
   "cell_type": "code",
   "execution_count": 19,
   "metadata": {
    "ExecuteTime": {
     "end_time": "2023-12-23T23:02:21.663929178Z",
     "start_time": "2023-12-23T23:02:21.500332065Z"
    }
   },
   "outputs": [],
   "source": [
    "# CODE HERE"
   ],
   "id": "6c78a7966e29dcba"
  },
  {
   "cell_type": "code",
   "execution_count": 20,
   "metadata": {
    "ExecuteTime": {
     "end_time": "2023-12-23T23:02:21.810725123Z",
     "start_time": "2023-12-23T23:02:21.665583321Z"
    }
   },
   "outputs": [],
   "source": [
    "financials = financials.drop('GOOG',axis=0)\n",
    "# financials.drop(index=\"GOOG\", inplace=True)"
   ],
   "id": "a595a35a104f4c2b"
  },
  {
   "cell_type": "markdown",
   "metadata": {},
   "source": [
    "**Task: How many companies have a dividend yield > 4% ?**"
   ],
   "id": "d20cd9e02efcdfb"
  },
  {
   "cell_type": "code",
   "execution_count": 21,
   "metadata": {
    "ExecuteTime": {
     "end_time": "2023-12-23T23:02:21.957051756Z",
     "start_time": "2023-12-23T23:02:21.772400561Z"
    }
   },
   "outputs": [],
   "source": [
    "# CODE HERE"
   ],
   "id": "108d08c9bca76489"
  },
  {
   "cell_type": "code",
   "execution_count": 22,
   "metadata": {
    "ExecuteTime": {
     "end_time": "2023-12-23T23:02:22.068524103Z",
     "start_time": "2023-12-23T23:02:21.876137855Z"
    }
   },
   "outputs": [
    {
     "data": {
      "text/plain": "37"
     },
     "execution_count": 22,
     "metadata": {},
     "output_type": "execute_result"
    }
   ],
   "source": [
    "len(financials[financials[\"Dividend Yield\"] > 4])"
   ],
   "id": "30302acce8f720d4"
  },
  {
   "cell_type": "markdown",
   "metadata": {},
   "source": [
    "**Task: What is the mean Earnings per Share for all companies with a market cap > 1e+11**"
   ],
   "id": "2a40aa15ed00c165"
  },
  {
   "cell_type": "code",
   "execution_count": 23,
   "metadata": {
    "ExecuteTime": {
     "end_time": "2023-12-23T23:02:22.201903046Z",
     "start_time": "2023-12-23T23:02:22.039701247Z"
    }
   },
   "outputs": [],
   "source": [
    "# CODE HERE"
   ],
   "id": "c7eb71f5ece7298e"
  },
  {
   "cell_type": "code",
   "execution_count": 24,
   "metadata": {
    "scrolled": true,
    "ExecuteTime": {
     "end_time": "2023-12-23T23:02:22.260680147Z",
     "start_time": "2023-12-23T23:02:22.181304069Z"
    }
   },
   "outputs": [
    {
     "data": {
      "text/plain": "4.746470588235294"
     },
     "execution_count": 24,
     "metadata": {},
     "output_type": "execute_result"
    }
   ],
   "source": [
    "financials[financials[\"Market Cap\"] > 1e+11][\"Earnings/Share\"].mean()"
   ],
   "id": "e9d6ca7ee15d249e"
  },
  {
   "cell_type": "markdown",
   "metadata": {},
   "source": [
    "**Task: How many companies have a positive earnings per shares ratio?**"
   ],
   "id": "f26effefb91fdbcb"
  },
  {
   "cell_type": "code",
   "execution_count": 25,
   "metadata": {
    "ExecuteTime": {
     "end_time": "2023-12-23T23:02:22.382402552Z",
     "start_time": "2023-12-23T23:02:22.252658368Z"
    }
   },
   "outputs": [],
   "source": [
    "# CODE HERE"
   ],
   "id": "d5c33c41c3d2ba79"
  },
  {
   "cell_type": "code",
   "execution_count": 26,
   "metadata": {
    "ExecuteTime": {
     "end_time": "2023-12-23T23:02:22.521512028Z",
     "start_time": "2023-12-23T23:02:22.366751348Z"
    }
   },
   "outputs": [
    {
     "data": {
      "text/plain": "491"
     },
     "execution_count": 26,
     "metadata": {},
     "output_type": "execute_result"
    }
   ],
   "source": [
    "(financials[\"Price/Earnings\"] > 0).sum()"
   ],
   "id": "211beb0fafaa7f2a"
  },
  {
   "cell_type": "markdown",
   "metadata": {},
   "source": [
    "**Task: Which company pays the highest dividend yield? What was its 52 week high?**"
   ],
   "id": "bfbd402a5f14dad6"
  },
  {
   "cell_type": "code",
   "execution_count": 27,
   "metadata": {
    "ExecuteTime": {
     "end_time": "2023-12-23T23:02:22.532289263Z",
     "start_time": "2023-12-23T23:02:22.448676174Z"
    }
   },
   "outputs": [],
   "source": [
    "# CODE HERE"
   ],
   "id": "abc742ffaaa037d9"
  },
  {
   "cell_type": "code",
   "execution_count": 28,
   "metadata": {
    "ExecuteTime": {
     "end_time": "2023-12-23T23:02:22.698162311Z",
     "start_time": "2023-12-23T23:02:22.512714420Z"
    }
   },
   "outputs": [
    {
     "data": {
      "text/plain": "Price             1.620000e+01\nPrice/Earnings    8.350000e+00\nDividend Yield    1.266120e+01\nEarnings/Share    1.160000e+00\n52 Week Low       2.761000e+01\n52 Week High      1.316100e+01\nMarket Cap        1.823720e+10\nEBITDA            5.577000e+09\nPrice/Sales       1.479598e+00\nPrice/Book        1.390000e+00\nName: CTL, dtype: float64"
     },
     "execution_count": 28,
     "metadata": {},
     "output_type": "execute_result"
    }
   ],
   "source": [
    "financials.sort_values(by=\"Dividend Yield\", ascending=False).iloc[0]"
   ],
   "id": "509ce1463bf16499"
  },
  {
   "cell_type": "markdown",
   "metadata": {},
   "source": [
    "**Task: Return the company with the largest spread between 52 weeks high and low**"
   ],
   "id": "33a2096299ca6018"
  },
  {
   "cell_type": "code",
   "execution_count": 29,
   "metadata": {
    "ExecuteTime": {
     "end_time": "2023-12-23T23:02:22.768273182Z",
     "start_time": "2023-12-23T23:02:22.667558530Z"
    }
   },
   "outputs": [],
   "source": [
    "# CODE HERE"
   ],
   "id": "1a3fdb9d542c5727"
  },
  {
   "cell_type": "code",
   "execution_count": 30,
   "metadata": {
    "ExecuteTime": {
     "end_time": "2023-12-23T23:02:22.928463038Z",
     "start_time": "2023-12-23T23:02:22.751065970Z"
    }
   },
   "outputs": [
    {
     "data": {
      "text/plain": "Price             1.350500e+03\nPrice/Earnings    2.961600e+02\nDividend Yield    0.000000e+00\nEarnings/Share    6.160000e+00\n52 Week Low       1.498000e+03\n52 Week High      8.125000e+02\nMarket Cap        6.858734e+11\nEBITDA            1.613200e+10\nPrice/Sales       3.927053e+00\nPrice/Book        2.428000e+01\nName: AMZN, dtype: float64"
     },
     "execution_count": 30,
     "metadata": {},
     "output_type": "execute_result"
    }
   ],
   "source": [
    "index = abs(financials[\"52 Week High\"] - financials[\"52 Week Low\"]).idxmax()\n",
    "financials.loc[index]"
   ],
   "id": "fbc62973a406d59d"
  },
  {
   "cell_type": "markdown",
   "metadata": {},
   "source": [
    "**Task: Return all companies whith a price between \\\\$ 50 and \\\\$ 100**"
   ],
   "id": "be3da62f9dc30642"
  },
  {
   "cell_type": "code",
   "execution_count": 31,
   "metadata": {
    "ExecuteTime": {
     "end_time": "2023-12-23T23:02:22.982344277Z",
     "start_time": "2023-12-23T23:02:22.917413595Z"
    }
   },
   "outputs": [],
   "source": [
    "# CODE HERE"
   ],
   "id": "a008da7ba93ff19a"
  },
  {
   "cell_type": "code",
   "execution_count": 32,
   "metadata": {
    "ExecuteTime": {
     "end_time": "2023-12-23T23:02:23.109527804Z",
     "start_time": "2023-12-23T23:02:22.969400788Z"
    }
   },
   "outputs": [
    {
     "data": {
      "text/plain": "        Price  Price/Earnings  Dividend Yield  Earnings/Share  52 Week Low  \\\nSymbol                                                                       \nAOS     60.24           27.76        1.147959            1.70       68.390   \nABT     56.27           22.51        1.908982            0.26       64.600   \nATVI    65.83           31.80        0.431903            1.28       74.945   \nAFL     83.25           12.24        2.429907           11.01       91.730   \nA       65.05           27.45        0.875698            2.10       75.000   \n...       ...             ...             ...             ...          ...   \nXLNX    62.82           27.19        2.090488            2.32       77.260   \nXYL     70.24           30.94        1.170079            1.83       76.810   \nYUM     76.30           27.25        1.797080            4.07       86.930   \nZION    50.71           17.73        1.480933            2.60       55.610   \nZTS     71.51           32.80        0.682372            1.65       80.130   \n\n        52 Week High    Market Cap        EBITDA  Price/Sales  Price/Book  \nSymbol                                                                     \nAOS           48.925   10783419933  6.010000e+08     3.575483        6.35  \nABT           42.280  102121042306  5.744000e+09     3.740480        3.19  \nATVI          38.930   52518668144  2.704000e+09    10.595120        5.16  \nAFL           68.800   33422948000  0.000000e+00     1.542934        1.53  \nA             49.230   21984606918  1.094000e+09     6.493563        4.56  \n...              ...           ...           ...          ...         ...  \nXLNX          54.990   17064975551  8.454680e+08     7.101206        7.22  \nXYL           46.860   12915021000  7.220000e+08     2.726209        5.31  \nYUM           62.850   27003303098  2.289000e+09     6.313636      212.08  \nZION          38.430   10670678640  0.000000e+00     3.794579        1.42  \nZTS           52.000   35991109776  1.734000e+09     9.280896       18.09  \n\n[190 rows x 10 columns]",
      "text/html": "<div>\n<style scoped>\n    .dataframe tbody tr th:only-of-type {\n        vertical-align: middle;\n    }\n\n    .dataframe tbody tr th {\n        vertical-align: top;\n    }\n\n    .dataframe thead th {\n        text-align: right;\n    }\n</style>\n<table border=\"1\" class=\"dataframe\">\n  <thead>\n    <tr style=\"text-align: right;\">\n      <th></th>\n      <th>Price</th>\n      <th>Price/Earnings</th>\n      <th>Dividend Yield</th>\n      <th>Earnings/Share</th>\n      <th>52 Week Low</th>\n      <th>52 Week High</th>\n      <th>Market Cap</th>\n      <th>EBITDA</th>\n      <th>Price/Sales</th>\n      <th>Price/Book</th>\n    </tr>\n    <tr>\n      <th>Symbol</th>\n      <th></th>\n      <th></th>\n      <th></th>\n      <th></th>\n      <th></th>\n      <th></th>\n      <th></th>\n      <th></th>\n      <th></th>\n      <th></th>\n    </tr>\n  </thead>\n  <tbody>\n    <tr>\n      <th>AOS</th>\n      <td>60.24</td>\n      <td>27.76</td>\n      <td>1.147959</td>\n      <td>1.70</td>\n      <td>68.390</td>\n      <td>48.925</td>\n      <td>10783419933</td>\n      <td>6.010000e+08</td>\n      <td>3.575483</td>\n      <td>6.35</td>\n    </tr>\n    <tr>\n      <th>ABT</th>\n      <td>56.27</td>\n      <td>22.51</td>\n      <td>1.908982</td>\n      <td>0.26</td>\n      <td>64.600</td>\n      <td>42.280</td>\n      <td>102121042306</td>\n      <td>5.744000e+09</td>\n      <td>3.740480</td>\n      <td>3.19</td>\n    </tr>\n    <tr>\n      <th>ATVI</th>\n      <td>65.83</td>\n      <td>31.80</td>\n      <td>0.431903</td>\n      <td>1.28</td>\n      <td>74.945</td>\n      <td>38.930</td>\n      <td>52518668144</td>\n      <td>2.704000e+09</td>\n      <td>10.595120</td>\n      <td>5.16</td>\n    </tr>\n    <tr>\n      <th>AFL</th>\n      <td>83.25</td>\n      <td>12.24</td>\n      <td>2.429907</td>\n      <td>11.01</td>\n      <td>91.730</td>\n      <td>68.800</td>\n      <td>33422948000</td>\n      <td>0.000000e+00</td>\n      <td>1.542934</td>\n      <td>1.53</td>\n    </tr>\n    <tr>\n      <th>A</th>\n      <td>65.05</td>\n      <td>27.45</td>\n      <td>0.875698</td>\n      <td>2.10</td>\n      <td>75.000</td>\n      <td>49.230</td>\n      <td>21984606918</td>\n      <td>1.094000e+09</td>\n      <td>6.493563</td>\n      <td>4.56</td>\n    </tr>\n    <tr>\n      <th>...</th>\n      <td>...</td>\n      <td>...</td>\n      <td>...</td>\n      <td>...</td>\n      <td>...</td>\n      <td>...</td>\n      <td>...</td>\n      <td>...</td>\n      <td>...</td>\n      <td>...</td>\n    </tr>\n    <tr>\n      <th>XLNX</th>\n      <td>62.82</td>\n      <td>27.19</td>\n      <td>2.090488</td>\n      <td>2.32</td>\n      <td>77.260</td>\n      <td>54.990</td>\n      <td>17064975551</td>\n      <td>8.454680e+08</td>\n      <td>7.101206</td>\n      <td>7.22</td>\n    </tr>\n    <tr>\n      <th>XYL</th>\n      <td>70.24</td>\n      <td>30.94</td>\n      <td>1.170079</td>\n      <td>1.83</td>\n      <td>76.810</td>\n      <td>46.860</td>\n      <td>12915021000</td>\n      <td>7.220000e+08</td>\n      <td>2.726209</td>\n      <td>5.31</td>\n    </tr>\n    <tr>\n      <th>YUM</th>\n      <td>76.30</td>\n      <td>27.25</td>\n      <td>1.797080</td>\n      <td>4.07</td>\n      <td>86.930</td>\n      <td>62.850</td>\n      <td>27003303098</td>\n      <td>2.289000e+09</td>\n      <td>6.313636</td>\n      <td>212.08</td>\n    </tr>\n    <tr>\n      <th>ZION</th>\n      <td>50.71</td>\n      <td>17.73</td>\n      <td>1.480933</td>\n      <td>2.60</td>\n      <td>55.610</td>\n      <td>38.430</td>\n      <td>10670678640</td>\n      <td>0.000000e+00</td>\n      <td>3.794579</td>\n      <td>1.42</td>\n    </tr>\n    <tr>\n      <th>ZTS</th>\n      <td>71.51</td>\n      <td>32.80</td>\n      <td>0.682372</td>\n      <td>1.65</td>\n      <td>80.130</td>\n      <td>52.000</td>\n      <td>35991109776</td>\n      <td>1.734000e+09</td>\n      <td>9.280896</td>\n      <td>18.09</td>\n    </tr>\n  </tbody>\n</table>\n<p>190 rows × 10 columns</p>\n</div>"
     },
     "execution_count": 32,
     "metadata": {},
     "output_type": "execute_result"
    }
   ],
   "source": [
    "financials[financials[\"Price\"].between(50, 100)]"
   ],
   "id": "e6228a62f1462e3e"
  },
  {
   "cell_type": "markdown",
   "metadata": {},
   "source": [
    "**Task: The market cap is really hard to read. Create a new column called \"Market Cap in Billion\" which shows the market cap in billions**"
   ],
   "id": "85a4ed3bacfae2cb"
  },
  {
   "cell_type": "code",
   "execution_count": 33,
   "metadata": {
    "ExecuteTime": {
     "end_time": "2023-12-23T23:02:23.207995113Z",
     "start_time": "2023-12-23T23:02:23.070982313Z"
    }
   },
   "outputs": [],
   "source": [
    "# CODE HERE"
   ],
   "id": "f74786b336b1698a"
  },
  {
   "cell_type": "code",
   "execution_count": 34,
   "metadata": {
    "ExecuteTime": {
     "end_time": "2023-12-23T23:02:23.283035724Z",
     "start_time": "2023-12-23T23:02:23.148628958Z"
    }
   },
   "outputs": [],
   "source": [
    "financials[\"Market Cap in Billion\"] = financials[\"Market Cap\"] / 1000000000"
   ],
   "id": "f4a580b105c1a2bc"
  },
  {
   "cell_type": "code",
   "execution_count": 35,
   "metadata": {
    "ExecuteTime": {
     "end_time": "2023-12-23T23:02:23.378481716Z",
     "start_time": "2023-12-23T23:02:23.259960340Z"
    }
   },
   "outputs": [
    {
     "data": {
      "text/plain": "         Price  Price/Earnings  Dividend Yield  Earnings/Share  52 Week Low  \\\nSymbol                                                                        \nMMM     222.89           24.31        2.332862            7.92       259.77   \nAOS      60.24           27.76        1.147959            1.70        68.39   \nABT      56.27           22.51        1.908982            0.26        64.60   \nABBV    108.48           19.41        2.499560            3.29       125.86   \nACN     150.51           25.47        1.714470            5.44       162.60   \n\n        52 Week High    Market Cap        EBITDA  Price/Sales  Price/Book  \\\nSymbol                                                                      \nMMM          175.490  138721055226  9.048000e+09     4.390271       11.34   \nAOS           48.925   10783419933  6.010000e+08     3.575483        6.35   \nABT           42.280  102121042306  5.744000e+09     3.740480        3.19   \nABBV          60.050  181386347059  1.031000e+10     6.291571       26.14   \nACN          114.820   98765855553  5.643228e+09     2.604117       10.62   \n\n        Market Cap in Billion  \nSymbol                         \nMMM                138.721055  \nAOS                 10.783420  \nABT                102.121042  \nABBV               181.386347  \nACN                 98.765856  ",
      "text/html": "<div>\n<style scoped>\n    .dataframe tbody tr th:only-of-type {\n        vertical-align: middle;\n    }\n\n    .dataframe tbody tr th {\n        vertical-align: top;\n    }\n\n    .dataframe thead th {\n        text-align: right;\n    }\n</style>\n<table border=\"1\" class=\"dataframe\">\n  <thead>\n    <tr style=\"text-align: right;\">\n      <th></th>\n      <th>Price</th>\n      <th>Price/Earnings</th>\n      <th>Dividend Yield</th>\n      <th>Earnings/Share</th>\n      <th>52 Week Low</th>\n      <th>52 Week High</th>\n      <th>Market Cap</th>\n      <th>EBITDA</th>\n      <th>Price/Sales</th>\n      <th>Price/Book</th>\n      <th>Market Cap in Billion</th>\n    </tr>\n    <tr>\n      <th>Symbol</th>\n      <th></th>\n      <th></th>\n      <th></th>\n      <th></th>\n      <th></th>\n      <th></th>\n      <th></th>\n      <th></th>\n      <th></th>\n      <th></th>\n      <th></th>\n    </tr>\n  </thead>\n  <tbody>\n    <tr>\n      <th>MMM</th>\n      <td>222.89</td>\n      <td>24.31</td>\n      <td>2.332862</td>\n      <td>7.92</td>\n      <td>259.77</td>\n      <td>175.490</td>\n      <td>138721055226</td>\n      <td>9.048000e+09</td>\n      <td>4.390271</td>\n      <td>11.34</td>\n      <td>138.721055</td>\n    </tr>\n    <tr>\n      <th>AOS</th>\n      <td>60.24</td>\n      <td>27.76</td>\n      <td>1.147959</td>\n      <td>1.70</td>\n      <td>68.39</td>\n      <td>48.925</td>\n      <td>10783419933</td>\n      <td>6.010000e+08</td>\n      <td>3.575483</td>\n      <td>6.35</td>\n      <td>10.783420</td>\n    </tr>\n    <tr>\n      <th>ABT</th>\n      <td>56.27</td>\n      <td>22.51</td>\n      <td>1.908982</td>\n      <td>0.26</td>\n      <td>64.60</td>\n      <td>42.280</td>\n      <td>102121042306</td>\n      <td>5.744000e+09</td>\n      <td>3.740480</td>\n      <td>3.19</td>\n      <td>102.121042</td>\n    </tr>\n    <tr>\n      <th>ABBV</th>\n      <td>108.48</td>\n      <td>19.41</td>\n      <td>2.499560</td>\n      <td>3.29</td>\n      <td>125.86</td>\n      <td>60.050</td>\n      <td>181386347059</td>\n      <td>1.031000e+10</td>\n      <td>6.291571</td>\n      <td>26.14</td>\n      <td>181.386347</td>\n    </tr>\n    <tr>\n      <th>ACN</th>\n      <td>150.51</td>\n      <td>25.47</td>\n      <td>1.714470</td>\n      <td>5.44</td>\n      <td>162.60</td>\n      <td>114.820</td>\n      <td>98765855553</td>\n      <td>5.643228e+09</td>\n      <td>2.604117</td>\n      <td>10.62</td>\n      <td>98.765856</td>\n    </tr>\n  </tbody>\n</table>\n</div>"
     },
     "execution_count": 35,
     "metadata": {},
     "output_type": "execute_result"
    }
   ],
   "source": [
    "financials.head()"
   ],
   "id": "a854ec3de7cae664"
  },
  {
   "cell_type": "markdown",
   "metadata": {},
   "source": [
    "**Task: Is there a correlation between the market cap and the Dividend Yield?**"
   ],
   "id": "e214aa7523e942fe"
  },
  {
   "cell_type": "code",
   "execution_count": 36,
   "metadata": {
    "ExecuteTime": {
     "end_time": "2023-12-23T23:02:23.592625984Z",
     "start_time": "2023-12-23T23:02:23.362759515Z"
    }
   },
   "outputs": [],
   "source": [
    "# CODE HERE"
   ],
   "id": "df6334eba7925d13"
  },
  {
   "cell_type": "code",
   "execution_count": 37,
   "metadata": {
    "scrolled": true,
    "ExecuteTime": {
     "end_time": "2023-12-23T23:02:23.742755447Z",
     "start_time": "2023-12-23T23:02:23.603561720Z"
    }
   },
   "outputs": [
    {
     "data": {
      "text/plain": "                       Market Cap in Billion  Dividend Yield\nMarket Cap in Billion               1.000000       -0.003506\nDividend Yield                     -0.003506        1.000000",
      "text/html": "<div>\n<style scoped>\n    .dataframe tbody tr th:only-of-type {\n        vertical-align: middle;\n    }\n\n    .dataframe tbody tr th {\n        vertical-align: top;\n    }\n\n    .dataframe thead th {\n        text-align: right;\n    }\n</style>\n<table border=\"1\" class=\"dataframe\">\n  <thead>\n    <tr style=\"text-align: right;\">\n      <th></th>\n      <th>Market Cap in Billion</th>\n      <th>Dividend Yield</th>\n    </tr>\n  </thead>\n  <tbody>\n    <tr>\n      <th>Market Cap in Billion</th>\n      <td>1.000000</td>\n      <td>-0.003506</td>\n    </tr>\n    <tr>\n      <th>Dividend Yield</th>\n      <td>-0.003506</td>\n      <td>1.000000</td>\n    </tr>\n  </tbody>\n</table>\n</div>"
     },
     "execution_count": 37,
     "metadata": {},
     "output_type": "execute_result"
    }
   ],
   "source": [
    "financials[[\"Market Cap in Billion\", \"Dividend Yield\"]].corr()"
   ],
   "id": "a2046752b9dc0f68"
  },
  {
   "cell_type": "markdown",
   "metadata": {},
   "source": [
    "**Task: Merge the financials dataframe with the constituents dataframe**"
   ],
   "id": "71afc04fa6a8524"
  },
  {
   "cell_type": "code",
   "execution_count": 38,
   "metadata": {
    "ExecuteTime": {
     "end_time": "2023-12-23T23:02:23.881209496Z",
     "start_time": "2023-12-23T23:02:23.705590532Z"
    }
   },
   "outputs": [],
   "source": [
    "# CODE HERE"
   ],
   "id": "b5a7f64b2021750d"
  },
  {
   "cell_type": "code",
   "execution_count": 39,
   "metadata": {
    "ExecuteTime": {
     "end_time": "2023-12-23T23:02:24.214297310Z",
     "start_time": "2023-12-23T23:02:23.854172014Z"
    }
   },
   "outputs": [],
   "source": [
    "merge = pd.merge(financials, constituents, on=\"Symbol\")"
   ],
   "id": "9b0ac9d1c1b5943e"
  },
  {
   "cell_type": "code",
   "execution_count": 40,
   "metadata": {
    "ExecuteTime": {
     "end_time": "2023-12-23T23:02:24.325096283Z",
     "start_time": "2023-12-23T23:02:24.186574730Z"
    }
   },
   "outputs": [
    {
     "data": {
      "text/plain": "  Symbol   Price  Price/Earnings  Dividend Yield  Earnings/Share  52 Week Low  \\\n0    MMM  222.89           24.31        2.332862            7.92       259.77   \n1    AOS   60.24           27.76        1.147959            1.70        68.39   \n2    ABT   56.27           22.51        1.908982            0.26        64.60   \n3   ABBV  108.48           19.41        2.499560            3.29       125.86   \n4    ACN  150.51           25.47        1.714470            5.44       162.60   \n\n   52 Week High    Market Cap        EBITDA  Price/Sales  Price/Book  \\\n0       175.490  138721055226  9.048000e+09     4.390271       11.34   \n1        48.925   10783419933  6.010000e+08     3.575483        6.35   \n2        42.280  102121042306  5.744000e+09     3.740480        3.19   \n3        60.050  181386347059  1.031000e+10     6.291571       26.14   \n4       114.820   98765855553  5.643228e+09     2.604117       10.62   \n\n   Market Cap in Billion                 Name                  Sector  \n0             138.721055           3M Company             Industrials  \n1              10.783420      A.O. Smith Corp             Industrials  \n2             102.121042  Abbott Laboratories             Health Care  \n3             181.386347          AbbVie Inc.             Health Care  \n4              98.765856        Accenture plc  Information Technology  ",
      "text/html": "<div>\n<style scoped>\n    .dataframe tbody tr th:only-of-type {\n        vertical-align: middle;\n    }\n\n    .dataframe tbody tr th {\n        vertical-align: top;\n    }\n\n    .dataframe thead th {\n        text-align: right;\n    }\n</style>\n<table border=\"1\" class=\"dataframe\">\n  <thead>\n    <tr style=\"text-align: right;\">\n      <th></th>\n      <th>Symbol</th>\n      <th>Price</th>\n      <th>Price/Earnings</th>\n      <th>Dividend Yield</th>\n      <th>Earnings/Share</th>\n      <th>52 Week Low</th>\n      <th>52 Week High</th>\n      <th>Market Cap</th>\n      <th>EBITDA</th>\n      <th>Price/Sales</th>\n      <th>Price/Book</th>\n      <th>Market Cap in Billion</th>\n      <th>Name</th>\n      <th>Sector</th>\n    </tr>\n  </thead>\n  <tbody>\n    <tr>\n      <th>0</th>\n      <td>MMM</td>\n      <td>222.89</td>\n      <td>24.31</td>\n      <td>2.332862</td>\n      <td>7.92</td>\n      <td>259.77</td>\n      <td>175.490</td>\n      <td>138721055226</td>\n      <td>9.048000e+09</td>\n      <td>4.390271</td>\n      <td>11.34</td>\n      <td>138.721055</td>\n      <td>3M Company</td>\n      <td>Industrials</td>\n    </tr>\n    <tr>\n      <th>1</th>\n      <td>AOS</td>\n      <td>60.24</td>\n      <td>27.76</td>\n      <td>1.147959</td>\n      <td>1.70</td>\n      <td>68.39</td>\n      <td>48.925</td>\n      <td>10783419933</td>\n      <td>6.010000e+08</td>\n      <td>3.575483</td>\n      <td>6.35</td>\n      <td>10.783420</td>\n      <td>A.O. Smith Corp</td>\n      <td>Industrials</td>\n    </tr>\n    <tr>\n      <th>2</th>\n      <td>ABT</td>\n      <td>56.27</td>\n      <td>22.51</td>\n      <td>1.908982</td>\n      <td>0.26</td>\n      <td>64.60</td>\n      <td>42.280</td>\n      <td>102121042306</td>\n      <td>5.744000e+09</td>\n      <td>3.740480</td>\n      <td>3.19</td>\n      <td>102.121042</td>\n      <td>Abbott Laboratories</td>\n      <td>Health Care</td>\n    </tr>\n    <tr>\n      <th>3</th>\n      <td>ABBV</td>\n      <td>108.48</td>\n      <td>19.41</td>\n      <td>2.499560</td>\n      <td>3.29</td>\n      <td>125.86</td>\n      <td>60.050</td>\n      <td>181386347059</td>\n      <td>1.031000e+10</td>\n      <td>6.291571</td>\n      <td>26.14</td>\n      <td>181.386347</td>\n      <td>AbbVie Inc.</td>\n      <td>Health Care</td>\n    </tr>\n    <tr>\n      <th>4</th>\n      <td>ACN</td>\n      <td>150.51</td>\n      <td>25.47</td>\n      <td>1.714470</td>\n      <td>5.44</td>\n      <td>162.60</td>\n      <td>114.820</td>\n      <td>98765855553</td>\n      <td>5.643228e+09</td>\n      <td>2.604117</td>\n      <td>10.62</td>\n      <td>98.765856</td>\n      <td>Accenture plc</td>\n      <td>Information Technology</td>\n    </tr>\n  </tbody>\n</table>\n</div>"
     },
     "execution_count": 40,
     "metadata": {},
     "output_type": "execute_result"
    }
   ],
   "source": [
    "merge.head()"
   ],
   "id": "bffbd7effeb02b72"
  },
  {
   "cell_type": "markdown",
   "metadata": {},
   "source": [
    "**Task: Print all sectors. How often does each sector occur?**"
   ],
   "id": "f54f691599180f48"
  },
  {
   "cell_type": "code",
   "execution_count": 41,
   "metadata": {
    "ExecuteTime": {
     "end_time": "2023-12-23T23:02:24.447266663Z",
     "start_time": "2023-12-23T23:02:24.308237997Z"
    }
   },
   "outputs": [],
   "source": [
    "# CODE HERE"
   ],
   "id": "ed59a20c052b7bf6"
  },
  {
   "cell_type": "code",
   "execution_count": 42,
   "metadata": {
    "ExecuteTime": {
     "end_time": "2023-12-23T23:02:24.573082579Z",
     "start_time": "2023-12-23T23:02:24.447925231Z"
    }
   },
   "outputs": [
    {
     "data": {
      "text/plain": "array(['Industrials', 'Health Care', 'Information Technology',\n       'Consumer Discretionary', 'Utilities', 'Financials', 'Materials',\n       'Real Estate', 'Consumer Staples', 'Energy',\n       'Telecommunication Services'], dtype=object)"
     },
     "execution_count": 42,
     "metadata": {},
     "output_type": "execute_result"
    }
   ],
   "source": [
    "merge[\"Sector\"].unique()"
   ],
   "id": "363b493ddf017f44"
  },
  {
   "cell_type": "code",
   "execution_count": 43,
   "metadata": {
    "ExecuteTime": {
     "end_time": "2023-12-23T23:02:24.738343337Z",
     "start_time": "2023-12-23T23:02:24.556123482Z"
    }
   },
   "outputs": [
    {
     "data": {
      "text/plain": "Sector\nConsumer Discretionary        84\nInformation Technology        69\nFinancials                    68\nIndustrials                   67\nHealth Care                   61\nConsumer Staples              34\nReal Estate                   33\nEnergy                        32\nUtilities                     28\nMaterials                     25\nTelecommunication Services     3\nName: count, dtype: int64"
     },
     "execution_count": 43,
     "metadata": {},
     "output_type": "execute_result"
    }
   ],
   "source": [
    "merge[\"Sector\"].value_counts()"
   ],
   "id": "37b8e279d64eef4a"
  },
  {
   "cell_type": "markdown",
   "metadata": {},
   "source": [
    "**Task: Replace Information Technology by \"IT\"**"
   ],
   "id": "8e00bd5ee2773efc"
  },
  {
   "cell_type": "code",
   "execution_count": 44,
   "metadata": {
    "ExecuteTime": {
     "end_time": "2023-12-23T23:02:24.798865858Z",
     "start_time": "2023-12-23T23:02:24.680146990Z"
    }
   },
   "outputs": [],
   "source": [
    "#CODE HERE"
   ],
   "id": "a62631d28c22cba7"
  },
  {
   "cell_type": "code",
   "execution_count": 45,
   "metadata": {
    "ExecuteTime": {
     "end_time": "2023-12-23T23:02:24.885463133Z",
     "start_time": "2023-12-23T23:02:24.769529019Z"
    }
   },
   "outputs": [],
   "source": [
    "mapper = {\"Information Technology\": \"IT\"}\n",
    "merge[\"Sector\"].replace(mapper, inplace=True)"
   ],
   "id": "3914808038b4c419"
  },
  {
   "cell_type": "code",
   "execution_count": 46,
   "metadata": {
    "scrolled": true,
    "ExecuteTime": {
     "end_time": "2023-12-23T23:02:24.958758875Z",
     "start_time": "2023-12-23T23:02:24.853713008Z"
    }
   },
   "outputs": [
    {
     "data": {
      "text/plain": "  Symbol   Price  Price/Earnings  Dividend Yield  Earnings/Share  52 Week Low  \\\n0    MMM  222.89           24.31        2.332862            7.92       259.77   \n1    AOS   60.24           27.76        1.147959            1.70        68.39   \n2    ABT   56.27           22.51        1.908982            0.26        64.60   \n3   ABBV  108.48           19.41        2.499560            3.29       125.86   \n4    ACN  150.51           25.47        1.714470            5.44       162.60   \n\n   52 Week High    Market Cap        EBITDA  Price/Sales  Price/Book  \\\n0       175.490  138721055226  9.048000e+09     4.390271       11.34   \n1        48.925   10783419933  6.010000e+08     3.575483        6.35   \n2        42.280  102121042306  5.744000e+09     3.740480        3.19   \n3        60.050  181386347059  1.031000e+10     6.291571       26.14   \n4       114.820   98765855553  5.643228e+09     2.604117       10.62   \n\n   Market Cap in Billion                 Name       Sector  \n0             138.721055           3M Company  Industrials  \n1              10.783420      A.O. Smith Corp  Industrials  \n2             102.121042  Abbott Laboratories  Health Care  \n3             181.386347          AbbVie Inc.  Health Care  \n4              98.765856        Accenture plc           IT  ",
      "text/html": "<div>\n<style scoped>\n    .dataframe tbody tr th:only-of-type {\n        vertical-align: middle;\n    }\n\n    .dataframe tbody tr th {\n        vertical-align: top;\n    }\n\n    .dataframe thead th {\n        text-align: right;\n    }\n</style>\n<table border=\"1\" class=\"dataframe\">\n  <thead>\n    <tr style=\"text-align: right;\">\n      <th></th>\n      <th>Symbol</th>\n      <th>Price</th>\n      <th>Price/Earnings</th>\n      <th>Dividend Yield</th>\n      <th>Earnings/Share</th>\n      <th>52 Week Low</th>\n      <th>52 Week High</th>\n      <th>Market Cap</th>\n      <th>EBITDA</th>\n      <th>Price/Sales</th>\n      <th>Price/Book</th>\n      <th>Market Cap in Billion</th>\n      <th>Name</th>\n      <th>Sector</th>\n    </tr>\n  </thead>\n  <tbody>\n    <tr>\n      <th>0</th>\n      <td>MMM</td>\n      <td>222.89</td>\n      <td>24.31</td>\n      <td>2.332862</td>\n      <td>7.92</td>\n      <td>259.77</td>\n      <td>175.490</td>\n      <td>138721055226</td>\n      <td>9.048000e+09</td>\n      <td>4.390271</td>\n      <td>11.34</td>\n      <td>138.721055</td>\n      <td>3M Company</td>\n      <td>Industrials</td>\n    </tr>\n    <tr>\n      <th>1</th>\n      <td>AOS</td>\n      <td>60.24</td>\n      <td>27.76</td>\n      <td>1.147959</td>\n      <td>1.70</td>\n      <td>68.39</td>\n      <td>48.925</td>\n      <td>10783419933</td>\n      <td>6.010000e+08</td>\n      <td>3.575483</td>\n      <td>6.35</td>\n      <td>10.783420</td>\n      <td>A.O. Smith Corp</td>\n      <td>Industrials</td>\n    </tr>\n    <tr>\n      <th>2</th>\n      <td>ABT</td>\n      <td>56.27</td>\n      <td>22.51</td>\n      <td>1.908982</td>\n      <td>0.26</td>\n      <td>64.60</td>\n      <td>42.280</td>\n      <td>102121042306</td>\n      <td>5.744000e+09</td>\n      <td>3.740480</td>\n      <td>3.19</td>\n      <td>102.121042</td>\n      <td>Abbott Laboratories</td>\n      <td>Health Care</td>\n    </tr>\n    <tr>\n      <th>3</th>\n      <td>ABBV</td>\n      <td>108.48</td>\n      <td>19.41</td>\n      <td>2.499560</td>\n      <td>3.29</td>\n      <td>125.86</td>\n      <td>60.050</td>\n      <td>181386347059</td>\n      <td>1.031000e+10</td>\n      <td>6.291571</td>\n      <td>26.14</td>\n      <td>181.386347</td>\n      <td>AbbVie Inc.</td>\n      <td>Health Care</td>\n    </tr>\n    <tr>\n      <th>4</th>\n      <td>ACN</td>\n      <td>150.51</td>\n      <td>25.47</td>\n      <td>1.714470</td>\n      <td>5.44</td>\n      <td>162.60</td>\n      <td>114.820</td>\n      <td>98765855553</td>\n      <td>5.643228e+09</td>\n      <td>2.604117</td>\n      <td>10.62</td>\n      <td>98.765856</td>\n      <td>Accenture plc</td>\n      <td>IT</td>\n    </tr>\n  </tbody>\n</table>\n</div>"
     },
     "execution_count": 46,
     "metadata": {},
     "output_type": "execute_result"
    }
   ],
   "source": [
    "merge.head()"
   ],
   "id": "41dd38b593ac8bbd"
  },
  {
   "cell_type": "markdown",
   "metadata": {},
   "source": [
    "**Task: Add a \\$ before the stock price**"
   ],
   "id": "8406fd6c3ca8de7d"
  },
  {
   "cell_type": "code",
   "execution_count": 47,
   "metadata": {
    "ExecuteTime": {
     "end_time": "2023-12-23T23:02:25.018690442Z",
     "start_time": "2023-12-23T23:02:24.912090484Z"
    }
   },
   "outputs": [],
   "source": [
    "# CODE HERE"
   ],
   "id": "e922de1dad33925f"
  },
  {
   "cell_type": "code",
   "execution_count": 48,
   "metadata": {
    "ExecuteTime": {
     "end_time": "2023-12-23T23:02:25.147414007Z",
     "start_time": "2023-12-23T23:02:24.986132527Z"
    }
   },
   "outputs": [],
   "source": [
    "merge[\"Price\"] = merge[\"Price\"].apply(lambda price: \"$\" + str(price))"
   ],
   "id": "e1b208f2ca246451"
  },
  {
   "cell_type": "code",
   "execution_count": 49,
   "metadata": {
    "ExecuteTime": {
     "end_time": "2023-12-23T23:02:25.249763357Z",
     "start_time": "2023-12-23T23:02:25.088136705Z"
    }
   },
   "outputs": [
    {
     "data": {
      "text/plain": "  Symbol    Price  Price/Earnings  Dividend Yield  Earnings/Share  \\\n0    MMM  $222.89           24.31        2.332862            7.92   \n1    AOS   $60.24           27.76        1.147959            1.70   \n2    ABT   $56.27           22.51        1.908982            0.26   \n3   ABBV  $108.48           19.41        2.499560            3.29   \n4    ACN  $150.51           25.47        1.714470            5.44   \n\n   52 Week Low  52 Week High    Market Cap        EBITDA  Price/Sales  \\\n0       259.77       175.490  138721055226  9.048000e+09     4.390271   \n1        68.39        48.925   10783419933  6.010000e+08     3.575483   \n2        64.60        42.280  102121042306  5.744000e+09     3.740480   \n3       125.86        60.050  181386347059  1.031000e+10     6.291571   \n4       162.60       114.820   98765855553  5.643228e+09     2.604117   \n\n   Price/Book  Market Cap in Billion                 Name       Sector  \n0       11.34             138.721055           3M Company  Industrials  \n1        6.35              10.783420      A.O. Smith Corp  Industrials  \n2        3.19             102.121042  Abbott Laboratories  Health Care  \n3       26.14             181.386347          AbbVie Inc.  Health Care  \n4       10.62              98.765856        Accenture plc           IT  ",
      "text/html": "<div>\n<style scoped>\n    .dataframe tbody tr th:only-of-type {\n        vertical-align: middle;\n    }\n\n    .dataframe tbody tr th {\n        vertical-align: top;\n    }\n\n    .dataframe thead th {\n        text-align: right;\n    }\n</style>\n<table border=\"1\" class=\"dataframe\">\n  <thead>\n    <tr style=\"text-align: right;\">\n      <th></th>\n      <th>Symbol</th>\n      <th>Price</th>\n      <th>Price/Earnings</th>\n      <th>Dividend Yield</th>\n      <th>Earnings/Share</th>\n      <th>52 Week Low</th>\n      <th>52 Week High</th>\n      <th>Market Cap</th>\n      <th>EBITDA</th>\n      <th>Price/Sales</th>\n      <th>Price/Book</th>\n      <th>Market Cap in Billion</th>\n      <th>Name</th>\n      <th>Sector</th>\n    </tr>\n  </thead>\n  <tbody>\n    <tr>\n      <th>0</th>\n      <td>MMM</td>\n      <td>$222.89</td>\n      <td>24.31</td>\n      <td>2.332862</td>\n      <td>7.92</td>\n      <td>259.77</td>\n      <td>175.490</td>\n      <td>138721055226</td>\n      <td>9.048000e+09</td>\n      <td>4.390271</td>\n      <td>11.34</td>\n      <td>138.721055</td>\n      <td>3M Company</td>\n      <td>Industrials</td>\n    </tr>\n    <tr>\n      <th>1</th>\n      <td>AOS</td>\n      <td>$60.24</td>\n      <td>27.76</td>\n      <td>1.147959</td>\n      <td>1.70</td>\n      <td>68.39</td>\n      <td>48.925</td>\n      <td>10783419933</td>\n      <td>6.010000e+08</td>\n      <td>3.575483</td>\n      <td>6.35</td>\n      <td>10.783420</td>\n      <td>A.O. Smith Corp</td>\n      <td>Industrials</td>\n    </tr>\n    <tr>\n      <th>2</th>\n      <td>ABT</td>\n      <td>$56.27</td>\n      <td>22.51</td>\n      <td>1.908982</td>\n      <td>0.26</td>\n      <td>64.60</td>\n      <td>42.280</td>\n      <td>102121042306</td>\n      <td>5.744000e+09</td>\n      <td>3.740480</td>\n      <td>3.19</td>\n      <td>102.121042</td>\n      <td>Abbott Laboratories</td>\n      <td>Health Care</td>\n    </tr>\n    <tr>\n      <th>3</th>\n      <td>ABBV</td>\n      <td>$108.48</td>\n      <td>19.41</td>\n      <td>2.499560</td>\n      <td>3.29</td>\n      <td>125.86</td>\n      <td>60.050</td>\n      <td>181386347059</td>\n      <td>1.031000e+10</td>\n      <td>6.291571</td>\n      <td>26.14</td>\n      <td>181.386347</td>\n      <td>AbbVie Inc.</td>\n      <td>Health Care</td>\n    </tr>\n    <tr>\n      <th>4</th>\n      <td>ACN</td>\n      <td>$150.51</td>\n      <td>25.47</td>\n      <td>1.714470</td>\n      <td>5.44</td>\n      <td>162.60</td>\n      <td>114.820</td>\n      <td>98765855553</td>\n      <td>5.643228e+09</td>\n      <td>2.604117</td>\n      <td>10.62</td>\n      <td>98.765856</td>\n      <td>Accenture plc</td>\n      <td>IT</td>\n    </tr>\n  </tbody>\n</table>\n</div>"
     },
     "execution_count": 49,
     "metadata": {},
     "output_type": "execute_result"
    }
   ],
   "source": [
    "merge.head()"
   ],
   "id": "8e435772abdb8028"
  },
  {
   "cell_type": "code",
   "execution_count": 49,
   "metadata": {
    "ExecuteTime": {
     "end_time": "2023-12-23T23:02:25.421758670Z",
     "start_time": "2023-12-23T23:02:25.186012214Z"
    }
   },
   "outputs": [],
   "source": [],
   "id": "ca3c240a0f1d7b96"
  }
 ],
 "metadata": {
  "kernelspec": {
   "display_name": "Python 3",
   "language": "python",
   "name": "python3"
  },
  "language_info": {
   "codemirror_mode": {
    "name": "ipython",
    "version": 3
   },
   "file_extension": ".py",
   "mimetype": "text/x-python",
   "name": "python",
   "nbconvert_exporter": "python",
   "pygments_lexer": "ipython3",
   "version": "3.8.3"
  }
 },
 "nbformat": 4,
 "nbformat_minor": 5
}
