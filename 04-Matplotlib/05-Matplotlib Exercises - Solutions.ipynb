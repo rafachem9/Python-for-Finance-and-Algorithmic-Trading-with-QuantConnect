{
 "cells": [
  {
   "cell_type": "markdown",
   "metadata": {},
   "source": [
    "___\n",
    "\n",
    "<a href='http://www.pieriandata.com'> <img src='../Pierian_Data_Logo.png' /></a>\n",
    "___\n",
    "# Matplotlib Exercises - Solutions\n",
    "\n",
    "Welcome to the exercises for reviewing matplotlib! Take your time with these, Matplotlib can be tricky to understand at first. These are relatively simple plots, but they can be hard if this is your first time with matplotlib, feel free to reference the solutions as you go along.\n",
    "\n",
    "Also don't worry if you find the matplotlib syntax frustrating, we actually won't be using it that often throughout the course, we will switch to using seaborn and pandas built-in visualization capabilities. But, those are built-off of matplotlib, which is why it is still important to get exposure to it!\n",
    "\n",
    "**NOTE: ALL THE COMMANDS FOR PLOTTING A FIGURE SHOULD ALL GO IN THE SAME CELL. SEPARATING THEM OUT INTO MULTIPLE CELLS MAY CAUSE NOTHING TO SHOW UP.**\n",
    "\n",
    "# Exercises\n",
    "\n",
    "**We will focus on two commons tasks, plotting a known relationship from an equation and plotting raw data points.**\n",
    "\n",
    "Follow the instructions to complete the tasks to recreate the plots using this data:\n",
    "\n",
    "----\n",
    "----\n",
    "\n",
    "### Task One: Creating data from an equation\n",
    "\n",
    "It is important to be able to directly translate a real equation into a plot. Your first task actually is pure numpy, then we will explore how to plot it out with Matplotlib. The [world famous equation](https://en.wikipedia.org/wiki/Mass%E2%80%93energy_equivalence) from Einstein:\n",
    "\n",
    "$$E=mc^2$$\n",
    "\n",
    "\n",
    "Use your knowledge of Numpy to create two arrays: E and m , where **m** is simply 11 evenly spaced values representing 0 grams to 10 grams. E should be the equivalent energy for the mass. You will need to figure out what to provide for **c** for the units m/s, a quick google search will easily give you the answer (we'll use the close approximation in our solutions).\n",
    "\n",
    "**NOTE: If this confuses you, then hop over to the solutions video for a guided walkthrough.**"
   ]
  },
  {
   "cell_type": "code",
   "execution_count": 7,
   "metadata": {
    "ExecuteTime": {
     "end_time": "2023-12-23T23:03:51.555428679Z",
     "start_time": "2023-12-23T23:03:51.425925423Z"
    }
   },
   "outputs": [],
   "source": [
    "import numpy as np"
   ]
  },
  {
   "cell_type": "code",
   "execution_count": 8,
   "metadata": {
    "ExecuteTime": {
     "end_time": "2023-12-23T23:03:51.635805503Z",
     "start_time": "2023-12-23T23:03:51.531509084Z"
    }
   },
   "outputs": [
    {
     "name": "stdout",
     "output_type": "stream",
     "text": [
      "The array m should look like this: \n",
      "\n",
      "[ 0.  1.  2.  3.  4.  5.  6.  7.  8.  9. 10.]\n"
     ]
    }
   ],
   "source": [
    "m = np.linspace(0,10,11)\n",
    "\n",
    "print(f\"The array m should look like this: \\n\\n{m}\")"
   ]
  },
  {
   "cell_type": "code",
   "execution_count": 9,
   "metadata": {
    "ExecuteTime": {
     "end_time": "2023-12-23T23:03:51.697650954Z",
     "start_time": "2023-12-23T23:03:51.587536477Z"
    }
   },
   "outputs": [],
   "source": [
    "c = 3 * 10**8 # Speed of Light"
   ]
  },
  {
   "cell_type": "code",
   "execution_count": 10,
   "metadata": {
    "ExecuteTime": {
     "end_time": "2023-12-23T23:03:51.759159504Z",
     "start_time": "2023-12-23T23:03:51.671762067Z"
    }
   },
   "outputs": [],
   "source": [
    "E = m*c**2"
   ]
  },
  {
   "cell_type": "code",
   "execution_count": 11,
   "metadata": {
    "ExecuteTime": {
     "end_time": "2023-12-23T23:03:51.828651051Z",
     "start_time": "2023-12-23T23:03:51.736797869Z"
    }
   },
   "outputs": [
    {
     "name": "stdout",
     "output_type": "stream",
     "text": [
      "The array E should look like this: \n",
      "\n",
      " [0.0e+00 9.0e+16 1.8e+17 2.7e+17 3.6e+17 4.5e+17 5.4e+17 6.3e+17 7.2e+17\n",
      " 8.1e+17 9.0e+17]\n"
     ]
    }
   ],
   "source": [
    "print(f\"The array E should look like this: \\n\\n {E}\")"
   ]
  },
  {
   "cell_type": "markdown",
   "metadata": {},
   "source": [
    "### Part Two: Plotting E=mc^2\n",
    "\n",
    "Now that we have the arrays E and m, we can plot this to see the relationship between Energy and Mass. \n",
    "\n",
    "**TASK: Import what you need from Matplotlib to plot out graphs:**"
   ]
  },
  {
   "cell_type": "code",
   "execution_count": 12,
   "metadata": {
    "ExecuteTime": {
     "end_time": "2023-12-23T23:03:52.464246317Z",
     "start_time": "2023-12-23T23:03:51.802234113Z"
    }
   },
   "outputs": [],
   "source": [
    "import matplotlib.pyplot as plt"
   ]
  },
  {
   "cell_type": "markdown",
   "metadata": {},
   "source": [
    "**TASK: Recreate the plot shown below which maps out E=mc^2 using the arrays we created in the previous task. Note the labels, titles, color, and axis limits. You don't need to match perfectly, but you should attempt to re-create each major component.**"
   ]
  },
  {
   "cell_type": "code",
   "execution_count": 13,
   "metadata": {
    "ExecuteTime": {
     "end_time": "2023-12-23T23:03:52.466589128Z",
     "start_time": "2023-12-23T23:03:52.464096805Z"
    }
   },
   "outputs": [],
   "source": [
    "# CODE HERE"
   ]
  },
  {
   "cell_type": "code",
   "execution_count": 14,
   "metadata": {
    "ExecuteTime": {
     "end_time": "2023-12-23T23:03:52.470619050Z",
     "start_time": "2023-12-23T23:03:52.464301281Z"
    }
   },
   "outputs": [],
   "source": [
    "# DON\"T RUN THE CELL BELOW< THAT WILL ERASE THE PLOT!"
   ]
  },
  {
   "cell_type": "code",
   "execution_count": 15,
   "metadata": {
    "ExecuteTime": {
     "end_time": "2023-12-23T23:03:52.711953915Z",
     "start_time": "2023-12-23T23:03:52.464416784Z"
    }
   },
   "outputs": [
    {
     "data": {
      "text/plain": "<Figure size 640x480 with 1 Axes>",
      "image/png": "[encoded data removed]"
     },
     "metadata": {},
     "output_type": "display_data"
    }
   ],
   "source": [
    "plt.plot(m,E,color='red',lw=5)\n",
    "plt.title(\"E=mc^2\")\n",
    "plt.xlabel(\"Mass in Grams\")\n",
    "plt.ylabel(\"Energy in Joules\")\n",
    "plt.xlim(0,10)\n",
    "plt.show()"
   ]
  },
  {
   "cell_type": "markdown",
   "metadata": {},
   "source": [
    "### Part Three (BONUS)\n",
    "\n",
    "**Can you figure out how to plot this on a logarthimic scale on the y axis? Place a grid along the y axis ticks as well. We didn't show this in the videos, but you should be able to figure this out by referencing Google, StackOverflow, Matplotlib Docs, or even our \"Additional Matplotlib Commands\" notebook. The plot we show here only required two more lines of code for the changes.**"
   ]
  },
  {
   "cell_type": "code",
   "execution_count": 16,
   "metadata": {
    "ExecuteTime": {
     "end_time": "2023-12-23T23:03:52.924740666Z",
     "start_time": "2023-12-23T23:03:52.713680032Z"
    }
   },
   "outputs": [],
   "source": [
    "# CODE HERE"
   ]
  },
  {
   "cell_type": "code",
   "execution_count": 17,
   "metadata": {
    "ExecuteTime": {
     "end_time": "2023-12-23T23:03:52.927001799Z",
     "start_time": "2023-12-23T23:03:52.755973560Z"
    }
   },
   "outputs": [],
   "source": [
    "# DONT RUN THE CELL BELOW! THAT WILL ERASE THE PLOT!"
   ]
  },
  {
   "cell_type": "code",
   "execution_count": 18,
   "metadata": {
    "ExecuteTime": {
     "end_time": "2023-12-23T23:03:53.525317699Z",
     "start_time": "2023-12-23T23:03:52.756158054Z"
    }
   },
   "outputs": [
    {
     "data": {
      "text/plain": "<Figure size 640x480 with 1 Axes>",
      "image/png": "[encoded data removed]"
     },
     "metadata": {},
     "output_type": "display_data"
    }
   ],
   "source": [
    "plt.plot(m,E,color='red',lw=5)\n",
    "plt.title(\"E=mc^2\")\n",
    "plt.xlabel(\"Mass in Grams\")\n",
    "plt.ylabel(\"Energy in Joules\")\n",
    "plt.xlim(0,10)\n",
    "\n",
    "# LOG SCALE\n",
    "plt.yscale(\"log\")\n",
    "plt.grid(which='both',axis='y')\n",
    "\n",
    "plt.show()"
   ]
  },
  {
   "cell_type": "markdown",
   "metadata": {},
   "source": [
    "---\n",
    "---\n",
    "\n",
    "## Task Two: Creating plots from data points\n",
    "\n",
    "In finance, the yield curve is a curve showing several yields to maturity or interest rates across different contract lengths (2 month, 2 year, 20 year, etc. ...) for a similar debt contract. The curve shows the relation between the (level of the) interest rate (or cost of borrowing) and the time to maturity, known as the \"term\", of the debt for a given borrower in a given currency.\n",
    "\n",
    "The U.S. dollar interest rates paid on U.S. Treasury securities for various maturities are closely watched by many traders, and are commonly plotted on a graph such as the one on the right, which is informally called \"the yield curve\".\n",
    "\n",
    "**For this exercise, we will give you the data for the yield curves at two separate points in time. Then we will ask you to create some plots from this data.**\n",
    "\n",
    "## Part One: Yield Curve Data\n",
    "\n",
    "**We've obtained some yeild curve data for you from the [US Treasury Dept.](https://www.treasury.gov/resource-center/data-chart-center/interest-rates/pages/textview.aspx?data=yield). The data shows the interest paid for a US Treasury bond for a certain contract length. The labels list shows the corresponding contract length per index position.**\n",
    "\n",
    "**TASK: Run the cell below to create the lists for plotting.**"
   ]
  },
  {
   "cell_type": "code",
   "execution_count": 19,
   "metadata": {
    "ExecuteTime": {
     "end_time": "2023-12-23T23:03:53.531416295Z",
     "start_time": "2023-12-23T23:03:53.523574888Z"
    }
   },
   "outputs": [],
   "source": [
    "labels = ['1 Mo','3 Mo','6 Mo','1 Yr','2 Yr','3 Yr','5 Yr','7 Yr','10 Yr','20 Yr','30 Yr']\n",
    "\n",
    "july16_2007 =[4.75,4.98,5.08,5.01,4.89,4.89,4.95,4.99,5.05,5.21,5.14]\n",
    "july16_2020 = [0.12,0.11,0.13,0.14,0.16,0.17,0.28,0.46,0.62,1.09,1.31]"
   ]
  },
  {
   "cell_type": "markdown",
   "metadata": {},
   "source": [
    "**TASK: Figure out how to plot both curves on the same Figure. Add a legend to show which curve corresponds to a certain year.**"
   ]
  },
  {
   "cell_type": "code",
   "execution_count": 20,
   "metadata": {
    "ExecuteTime": {
     "end_time": "2023-12-23T23:03:53.931086294Z",
     "start_time": "2023-12-23T23:03:53.556779512Z"
    }
   },
   "outputs": [
    {
     "ename": "NameError",
     "evalue": "name 'lab' is not defined",
     "output_type": "error",
     "traceback": [
      "\u001B[0;31m---------------------------------------------------------------------------\u001B[0m",
      "\u001B[0;31mNameError\u001B[0m                                 Traceback (most recent call last)",
      "Cell \u001B[0;32mIn[20], line 7\u001B[0m\n\u001B[1;32m      5\u001B[0m fig\u001B[38;5;241m.\u001B[39msuptitle(\u001B[38;5;124m'\u001B[39m\u001B[38;5;124mNPrs spectrum\u001B[39m\u001B[38;5;124m'\u001B[39m , fontsize\u001B[38;5;241m=\u001B[39m\u001B[38;5;241m20\u001B[39m)\n\u001B[1;32m      6\u001B[0m fig\u001B[38;5;241m.\u001B[39msubplots_adjust(hspace\u001B[38;5;241m=\u001B[39m\u001B[38;5;241m0.5\u001B[39m, wspace\u001B[38;5;241m=\u001B[39m\u001B[38;5;241m0.5\u001B[39m)\n\u001B[0;32m----> 7\u001B[0m ax\u001B[38;5;241m.\u001B[39mplot(labels,july16_2007, \u001B[43mlab\u001B[49m)\n\u001B[1;32m      8\u001B[0m ax\u001B[38;5;241m.\u001B[39mplot(labels,july16_2020)\n\u001B[1;32m      9\u001B[0m plt\u001B[38;5;241m.\u001B[39mlegend()\n",
      "\u001B[0;31mNameError\u001B[0m: name 'lab' is not defined"
     ]
    },
    {
     "data": {
      "text/plain": "<Figure size 1500x1000 with 1 Axes>",
      "image/png": "[encoded data removed]"
     },
     "metadata": {},
     "output_type": "display_data"
    }
   ],
   "source": [
    "# CODE HERE\n",
    "fig_size = 0.4\n",
    "fig = plt.figure(figsize=[15,10])\n",
    "ax = fig.add_axes([0,0,1,1])\n",
    "fig.suptitle('NPrs spectrum' , fontsize=20)\n",
    "fig.subplots_adjust(hspace=0.5, wspace=0.5)\n",
    "ax.plot(labels,july16_2007, lab)\n",
    "ax.plot(labels,july16_2020)\n",
    "plt.legend()"
   ]
  },
  {
   "cell_type": "code",
   "execution_count": null,
   "metadata": {
    "ExecuteTime": {
     "end_time": "2023-12-23T23:03:54.333323024Z",
     "start_time": "2023-12-23T23:03:53.935913696Z"
    }
   },
   "outputs": [],
   "source": [
    "# DONT RUN THE CELL BELOW! IT WILL ERASE THE PLOT!"
   ]
  },
  {
   "cell_type": "code",
   "execution_count": null,
   "metadata": {
    "ExecuteTime": {
     "start_time": "2023-12-23T23:03:53.980186911Z"
    }
   },
   "outputs": [],
   "source": [
    "# Create Figure (empty canvas)\n",
    "fig = plt.figure()\n",
    "\n",
    "# Add set of axes to figure\n",
    "axes = fig.add_axes([0, 0, 1, 1]) # left, bottom, width, height (range 0 to 1)\n",
    "\n",
    "# Plot on that set of axes\n",
    "axes.plot(labels, july16_2007,label='july16_2007')\n",
    "axes.plot(labels,july16_2020,label='july16_2020')\n",
    "plt.legend()\n",
    "\n",
    "plt.show()"
   ]
  },
  {
   "cell_type": "markdown",
   "metadata": {},
   "source": [
    "**TASK: The legend in the plot above looks a little strange in the middle of the curves. While it is not blocking anything, it would be nicer if it were *outside* the plot. Figure out how to move the legend outside the main Figure plot.**"
   ]
  },
  {
   "cell_type": "code",
   "execution_count": null,
   "metadata": {
    "ExecuteTime": {
     "start_time": "2023-12-23T23:03:53.980545816Z"
    }
   },
   "outputs": [],
   "source": [
    "# CODE HERE"
   ]
  },
  {
   "cell_type": "code",
   "execution_count": null,
   "metadata": {
    "ExecuteTime": {
     "start_time": "2023-12-23T23:03:53.980779371Z"
    }
   },
   "outputs": [],
   "source": [
    "# DONT RUN THE CELL BELOW! IT WILL ERASE THE PLOT!"
   ]
  },
  {
   "cell_type": "code",
   "execution_count": null,
   "metadata": {
    "ExecuteTime": {
     "start_time": "2023-12-23T23:03:53.981016003Z"
    }
   },
   "outputs": [],
   "source": [
    "# Create Figure (empty canvas)\n",
    "fig = plt.figure()\n",
    "\n",
    "# Add set of axes to figure\n",
    "axes = fig.add_axes([0, 0, 1, 1]) # left, bottom, width, height (range 0 to 1)\n",
    "\n",
    "# Plot on that set of axes\n",
    "axes.plot(labels, july16_2007,label='july16_2007')\n",
    "axes.plot(labels,july16_2020,label='july16_2020')\n",
    "plt.legend(loc=(1.04,0.5))\n",
    "\n",
    "plt.show()"
   ]
  },
  {
   "cell_type": "markdown",
   "metadata": {},
   "source": [
    "**TASK: While the plot above clearly shows how rates fell from 2007 to 2020, putting these on the same plot makes it difficult to discern the rate differences within the same year. Use .suplots() to create the plot figure below, which shows each year's yield curve.**"
   ]
  },
  {
   "cell_type": "code",
   "execution_count": null,
   "metadata": {
    "ExecuteTime": {
     "start_time": "2023-12-23T23:03:53.981232689Z"
    }
   },
   "outputs": [],
   "source": [
    "# CODE HERE"
   ]
  },
  {
   "cell_type": "code",
   "execution_count": null,
   "metadata": {
    "ExecuteTime": {
     "start_time": "2023-12-23T23:03:53.981400581Z"
    }
   },
   "outputs": [],
   "source": [
    "# DONT RUN THE CELL BELOW! IT WILL ERASE THE PLOT!"
   ]
  },
  {
   "cell_type": "code",
   "execution_count": null,
   "metadata": {
    "ExecuteTime": {
     "start_time": "2023-12-23T23:03:53.981613131Z"
    }
   },
   "outputs": [],
   "source": [
    "fig,axes = plt.subplots(nrows=2,ncols=1,figsize=(12,8))\n",
    "\n",
    "axes[0].plot(labels, july16_2007,label='july16_2007')\n",
    "axes[0].set_title(\"July 16th, 2007\")\n",
    "axes[1].plot(labels,july16_2020,label='july16_2020')\n",
    "axes[1].set_title(\"July 16th, 2020\")\n",
    "\n",
    "\n",
    "plt.show()"
   ]
  },
  {
   "cell_type": "markdown",
   "metadata": {},
   "source": [
    "**BONUS CHALLENGE TASK: Try to recreate the plot below that uses twin axes. While this plot may actually be more confusing than helpful, its a good exercise in Matplotlib control.**"
   ]
  },
  {
   "cell_type": "code",
   "execution_count": null,
   "metadata": {
    "ExecuteTime": {
     "start_time": "2023-12-23T23:03:53.981757247Z"
    }
   },
   "outputs": [],
   "source": [
    "# CODE HERE"
   ]
  },
  {
   "cell_type": "code",
   "execution_count": null,
   "metadata": {
    "ExecuteTime": {
     "start_time": "2023-12-23T23:03:53.981934627Z"
    }
   },
   "outputs": [],
   "source": [
    "# DONT RUN THE CELL BELOW! IT ERASES THE PLOT!"
   ]
  },
  {
   "cell_type": "code",
   "execution_count": null,
   "metadata": {
    "scrolled": true,
    "ExecuteTime": {
     "start_time": "2023-12-23T23:03:54.070858764Z"
    }
   },
   "outputs": [],
   "source": [
    "fig, ax1 = plt.subplots(figsize=(12,8))\n",
    "\n",
    "ax1.plot(labels,july16_2007, lw=2, color=\"blue\")\n",
    "ax1.set_ylabel(\"2007\", fontsize=18, color=\"blue\")\n",
    "\n",
    "ax1.spines['left'].set_color('blue')\n",
    "ax1.spines['left'].set_linewidth(4)\n",
    "\n",
    "for label in ax1.get_yticklabels():\n",
    "    label.set_color(\"blue\")\n",
    "plt.yticks(fontsize=15)    \n",
    "    \n",
    "ax2 = ax1.twinx()\n",
    "ax2.plot(labels,july16_2020, lw=2, color=\"red\")\n",
    "ax2.set_ylabel(\"2020\", fontsize=18, color=\"red\")\n",
    "\n",
    "ax2.spines['right'].set_color('red')\n",
    "ax2.spines['right'].set_linewidth(4)\n",
    "\n",
    "for label in ax2.get_yticklabels():\n",
    "    label.set_color(\"red\")\n",
    "    \n",
    "ax1.set_title(\"July 16th Yield Curves\");\n",
    "plt.yticks(fontsize=15)"
   ]
  },
  {
   "cell_type": "markdown",
   "metadata": {},
   "source": [
    "-----"
   ]
  }
 ],
 "metadata": {
  "kernelspec": {
   "display_name": "Python 3 (ipykernel)",
   "language": "python",
   "name": "python3"
  },
  "language_info": {
   "codemirror_mode": {
    "name": "ipython",
    "version": 3
   },
   "file_extension": ".py",
   "mimetype": "text/x-python",
   "name": "python",
   "nbconvert_exporter": "python",
   "pygments_lexer": "ipython3",
   "version": "3.9.12"
  }
 },
 "nbformat": 4,
 "nbformat_minor": 4
}
