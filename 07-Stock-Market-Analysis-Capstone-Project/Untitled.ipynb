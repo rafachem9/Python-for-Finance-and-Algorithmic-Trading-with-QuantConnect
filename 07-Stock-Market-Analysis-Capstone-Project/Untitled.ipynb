{
 "cells": [
  {
   "cell_type": "code",
   "execution_count": 2,
   "id": "da59ff4a-17ec-4c14-a15c-82168b0d8634",
   "metadata": {},
   "outputs": [],
   "source": [
    "import yfinance\n",
    "import numpy as np\n",
    "import pandas as pd\n",
    "import matplotlib.pyplot as plt\n",
    "import pandas_datareader.data as web\n",
    "from datetime import datetime, date\n",
    "import os\n",
    "%matplotlib inline  "
   ]
  },
  {
   "cell_type": "code",
   "execution_count": null,
   "id": "001738bf-0c9e-436c-8326-b6dabd3080a5",
   "metadata": {},
   "outputs": [],
   "source": []
  },
  {
   "cell_type": "markdown",
   "id": "8fab6ae6-2069-43ce-8410-ca37596269a6",
   "metadata": {},
   "source": [
    "# Eficient market hypothesis\n",
    "- Random walk hypothesis\n",
    "- Investment vs traiding\n",
    "- Investing in securities\n",
    "- Insider information (unknown information for the public, it is illegal)\n",
    "- Company Fraud (misreporting by a company)\n",
    "- Propietary information (create your own data from publicly available source)"
   ]
  },
  {
   "cell_type": "markdown",
   "id": "33cae5fe-1e46-47ee-96cd-390eb22f61b5",
   "metadata": {},
   "source": [
    "# Measurement of return\n",
    "- \"In the real world, you purchase assets like a house or car in dolars\"\n",
    "- \"fair\" comparison (normalization)\n",
    "    - percentage gain: \n",
    "    $$c=\\frac{x_2-x_1}{x_1}$$\n",
    "        - C = relative change\n",
    "        - $x_1$ = initial value\n",
    "        - $x_2$ = final value\n",
    "    - daily percent returns: it is important to check time period\n",
    "        "
   ]
  },
  {
   "cell_type": "markdown",
   "id": "72eecbfc-44ab-4f8e-8deb-ae7bdd5ef763",
   "metadata": {},
   "source": [
    "# Measurement of Risk\n",
    "- Check Financial risk in Wikipedia (https://en.wikipedia.org/wiki/Financial_risk)\n",
    "    - volatile (percentage return no take this value)\n",
    "    - Modern portfolio threory (Harry Markowitz), risk is defined as the variance or standard deviation of a holding or portafolio\n",
    "        - standard deviation of daily percent returns"
   ]
  },
  {
   "cell_type": "markdown",
   "id": "5b884c4e-cb91-4091-93ab-e62045a12de0",
   "metadata": {
    "tags": []
   },
   "source": [
    "# Sharpe Ratio - Theory and Intutition\n",
    "- key parts:\n",
    "    - Measuring return\n",
    "    - Measuring risk\n",
    "- Treasury bond \"risk free\"\n",
    "    - $$\\text{Sharpe Ratio} = \\frac{R_p - R_f}{\\sigma_p}$$\n",
    "    - Donde:\n",
    "        - Rp es el rendimiento esperado de la cartera.\n",
    "        - Rf es la tasa libre de riesgo.\n",
    "        - σp es la desviación estándar del rendimiento de la cartera.\n",
    "    - Mean Asset Returns\n",
    "        - Daily percent return\n",
    "            - df['Adj Close'].pct_change(1).mean()\n",
    "        - Standard Deviation od asset return \n",
    "            - df['Adj Close'].pct_change(1).std()\n",
    "    - Normalmente se calcula con el anual\n",
    "        - 0-1 suboptimal\n",
    "        - 1-2 generaally good\n",
    "        - 2-3\n",
    "        \n"
   ]
  },
  {
   "cell_type": "markdown",
   "id": "5be49d46-bc6a-443c-ade4-d1f2ca997c73",
   "metadata": {},
   "source": [
    "# Sortino Ratio\n",
    "# Probabilistic Sharpe Ratio\n",
    "- Skewness \n",
    "- Kurtosis\n",
    "- Probabilistic Sharpe Ratio (PSR) (David Bailey y Marcos Lopez)\n",
    "    - "
   ]
  },
  {
   "cell_type": "markdown",
   "id": "f178e759-5bee-4b6e-9f5b-166099a490c8",
   "metadata": {},
   "source": [
    "Skewness is a statistical measure that describes the asymmetry of a probability distribution. In other words, it indicates the degree to which a distribution deviates from symmetry. A perfectly symmetrical distribution has a skewness of 0.\n",
    "\n",
    "There are two main types of skewness:\n",
    "\n",
    "    Positive Skewness (Right Skewness): If the distribution has a tail on the right side (larger values) that is longer or fatter than the left side, it is positively skewed. The mean is usually greater than the median in a positively skewed distribution.\n",
    "\n",
    "    Negative Skewness (Left Skewness): If the distribution has a tail on the left side (smaller values) that is longer or fatter than the right side, it is negatively skewed. The mean is typically less than the median in a negatively skewed distribution.\n",
    "\n",
    "Skewness can be calculated using different formulas, but one common method for sample skewness is:\n",
    "\n",
    "Skewness=n(n−1)(n−2)∑i=1n(Xi−Xˉs)3Skewness=(n−1)(n−2)n​∑i=1n​(sXi​−Xˉ​)3\n",
    "\n",
    "where:\n",
    "\n",
    "    nn is the number of data points in the sample.\n",
    "    XiXi​ is each individual data point.\n",
    "    XˉXˉ is the sample mean.\n",
    "    ss is the sample standard deviation.\n",
    "\n",
    "Interpreting skewness:\n",
    "\n",
    "    Skewness = 0: Symmetrical distribution.\n",
    "    Skewness > 0: Positively skewed (tail on the right).\n",
    "    Skewness < 0: Negatively skewed (tail on the left).\n",
    "\n",
    "Similar to kurtosis, skewness is affected by the presence of outliers, so it's important to consider the overall characteristics of the data distribution."
   ]
  },
  {
   "cell_type": "markdown",
   "id": "0abdab9d-de4b-41f4-8c43-ab759497afd7",
   "metadata": {},
   "source": [
    "Kurtosis is a statistical measure that describes the distribution of data points in a data set. It quantifies the \"tailedness\" of the data distribution, indicating whether the data are heavy-tailed (more extreme values) or light-tailed (less extreme values) compared to a normal distribution.\n",
    "\n",
    "There are different ways to calculate kurtosis, but one common approach is to compare the distribution to a normal distribution. A normal distribution has a kurtosis of 3 (referred to as mesokurtic). Positive kurtosis indicates a distribution with heavier tails than the normal distribution (leptokurtic), while negative kurtosis indicates lighter tails (platykurtic).\n",
    "\n",
    "The formula for sample kurtosis is often expressed as:\n",
    "\n",
    "Kurtosis=n(n+1)(n−1)(n−2)(n−3)∑i=1n(Xi−Xˉs)4−3(n−1)2(n−2)(n−3)Kurtosis=(n−1)(n−2)(n−3)n(n+1)​∑i=1n​(sXi​−Xˉ​)4−(n−2)(n−3)3(n−1)2​\n",
    "\n",
    "where:\n",
    "\n",
    "    nn is the number of data points in the sample.\n",
    "    XiXi​ is each individual data point.\n",
    "    XˉXˉ is the sample mean.\n",
    "    ss is the sample standard deviation.\n",
    "\n",
    "Interpreting kurtosis:\n",
    "\n",
    "    Kurtosis = 3: Mesokurtic (similar to a normal distribution).\n",
    "    Kurtosis > 3: Leptokurtic (heavier tails).\n",
    "    Kurtosis < 3: Platykurtic (lighter tails).\n",
    "\n",
    "It's important to note that kurtosis is sensitive to outliers, and its interpretation should be done with caution. Different statistical software packages may use slightly different formulas for calculating kurtosis, so it's advisable to check the documentation for the specific method being used"
   ]
  },
  {
   "cell_type": "markdown",
   "id": "5a1b56c4-a3d9-422d-9ba1-b3e61aa86c76",
   "metadata": {
    "tags": []
   },
   "source": [
    "## Modern Portfolio theory (MPT)\n",
    "- Equally Weight holdings"
   ]
  },
  {
   "cell_type": "markdown",
   "id": "e74f3809-3131-4312-aab7-a79bf2b7cab8",
   "metadata": {},
   "source": [
    "## logarimit Returns\n",
    "- cumulative return\n",
    "- compound return in regular term"
   ]
  },
  {
   "cell_type": "code",
   "execution_count": null,
   "id": "5745e32f-9ebf-4b97-9dd7-63aff7ec0c42",
   "metadata": {},
   "outputs": [],
   "source": []
  }
 ],
 "metadata": {
  "kernelspec": {
   "display_name": "Python 3",
   "language": "python",
   "name": "python3"
  },
  "language_info": {
   "codemirror_mode": {
    "name": "ipython",
    "version": 3
   },
   "file_extension": ".py",
   "mimetype": "text/x-python",
   "name": "python",
   "nbconvert_exporter": "python",
   "pygments_lexer": "ipython3",
   "version": "3.7.0"
  }
 },
 "nbformat": 4,
 "nbformat_minor": 5
}
