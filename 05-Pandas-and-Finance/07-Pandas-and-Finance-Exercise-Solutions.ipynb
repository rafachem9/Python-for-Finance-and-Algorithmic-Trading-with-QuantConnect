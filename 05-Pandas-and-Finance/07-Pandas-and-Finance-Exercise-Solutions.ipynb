{
 "cells": [
  {
   "cell_type": "markdown",
   "id": "cbc6278f",
   "metadata": {},
   "source": [
    "___\n",
    "\n",
    "<a href='http://www.pieriandata.com'><img src='../Pierian_Data_Logo.png'/></a>\n",
    "___\n",
    "<center><em>Copyright by Pierian Data Inc.</em></center>\n",
    "<center><em>For more information, visit us at <a href='http://www.pieriandata.com'>www.pieriandata.com</a></em></center>"
   ]
  },
  {
   "cell_type": "markdown",
   "id": "31835bbd",
   "metadata": {},
   "source": [
    "# Pandas and Finance Exercise - Solutions\n",
    "\n",
    "Let's test your new skills!\n",
    "\n",
    "## Complete the Tasks in Bold Below.\n",
    "\n"
   ]
  },
  {
   "cell_type": "markdown",
   "id": "adjusted-recycling",
   "metadata": {},
   "source": [
    "**NOTE: For this exercise, you will need to answer the questions below given the dataset of the SP500 (https://finance.yahoo.com/quote/SPY/). Part of the tasks is to download this dataset, if for some reason you can not download this dataset, we have provided a .csv file in this same folder you can read called SPY2000_2021.csv**"
   ]
  },
  {
   "cell_type": "markdown",
   "id": "refined-puppy",
   "metadata": {},
   "source": [
    "**Task: Import any necessary libraries you think you will need (or just import them as you go along)**"
   ]
  },
  {
   "cell_type": "code",
   "execution_count": 1,
   "id": "clear-tradition",
   "metadata": {
    "ExecuteTime": {
     "end_time": "2023-12-23T23:04:21.662534300Z",
     "start_time": "2023-12-23T23:04:21.601513264Z"
    }
   },
   "outputs": [],
   "source": [
    "# CODE HERE"
   ]
  },
  {
   "cell_type": "code",
   "execution_count": 2,
   "id": "surrounded-cinema",
   "metadata": {
    "ExecuteTime": {
     "end_time": "2023-12-23T23:04:21.974345052Z",
     "start_time": "2023-12-23T23:04:21.619931350Z"
    }
   },
   "outputs": [
    {
     "ename": "ModuleNotFoundError",
     "evalue": "No module named 'yfinance'",
     "output_type": "error",
     "traceback": [
      "\u001B[0;31m---------------------------------------------------------------------------\u001B[0m",
      "\u001B[0;31mModuleNotFoundError\u001B[0m                       Traceback (most recent call last)",
      "Cell \u001B[0;32mIn[2], line 1\u001B[0m\n\u001B[0;32m----> 1\u001B[0m \u001B[38;5;28;01mimport\u001B[39;00m \u001B[38;5;21;01myfinance\u001B[39;00m\n\u001B[1;32m      2\u001B[0m \u001B[38;5;28;01mimport\u001B[39;00m \u001B[38;5;21;01mnumpy\u001B[39;00m \u001B[38;5;28;01mas\u001B[39;00m \u001B[38;5;21;01mnp\u001B[39;00m\n\u001B[1;32m      3\u001B[0m \u001B[38;5;28;01mimport\u001B[39;00m \u001B[38;5;21;01mpandas\u001B[39;00m \u001B[38;5;28;01mas\u001B[39;00m \u001B[38;5;21;01mpd\u001B[39;00m\n",
      "\u001B[0;31mModuleNotFoundError\u001B[0m: No module named 'yfinance'"
     ]
    }
   ],
   "source": [
    "import yfinance\n",
    "import numpy as np\n",
    "import pandas as pd\n",
    "import matplotlib.pyplot as plt"
   ]
  },
  {
   "cell_type": "markdown",
   "id": "daily-edward",
   "metadata": {},
   "source": [
    "**Task: SPY is one of the original index ETFs tracking the S&P 500 group of stocks. Use Python to grab the SPY historical data from Janurary 1st in 2000 to Janurary 1st in 2021.** \n",
    "\n",
    "*Note: Use any library or method you prefer.*"
   ]
  },
  {
   "cell_type": "code",
   "execution_count": null,
   "id": "intended-blood",
   "metadata": {
    "ExecuteTime": {
     "start_time": "2023-12-23T23:04:21.956270164Z"
    }
   },
   "outputs": [],
   "source": [
    "# CODE HERE"
   ]
  },
  {
   "cell_type": "code",
   "execution_count": null,
   "id": "hybrid-discretion",
   "metadata": {
    "ExecuteTime": {
     "start_time": "2023-12-23T23:04:21.956491787Z"
    }
   },
   "outputs": [],
   "source": [
    "df = yfinance.download(\"SPY\", start=\"2000-1-1\",end='2021-1-1')"
   ]
  },
  {
   "cell_type": "code",
   "execution_count": null,
   "id": "cb707510",
   "metadata": {
    "ExecuteTime": {
     "start_time": "2023-12-23T23:04:21.956645978Z"
    }
   },
   "outputs": [],
   "source": [
    "df"
   ]
  },
  {
   "cell_type": "code",
   "execution_count": null,
   "id": "needed-karaoke",
   "metadata": {
    "ExecuteTime": {
     "start_time": "2023-12-23T23:04:21.956796148Z"
    }
   },
   "outputs": [],
   "source": [
    "# Alternatively you can use read_csv to read the provided csv file. Just make sure to set index_col=\"Date\""
   ]
  },
  {
   "cell_type": "markdown",
   "id": "organic-translator",
   "metadata": {},
   "source": [
    "**Task: Check the head of the ten first entries in the dataset**"
   ]
  },
  {
   "cell_type": "code",
   "execution_count": null,
   "id": "going-location",
   "metadata": {
    "ExecuteTime": {
     "end_time": "2023-12-23T23:04:21.978977857Z",
     "start_time": "2023-12-23T23:04:21.974804116Z"
    }
   },
   "outputs": [],
   "source": [
    "# CODE HERE"
   ]
  },
  {
   "cell_type": "code",
   "execution_count": null,
   "id": "infinite-cycle",
   "metadata": {
    "ExecuteTime": {
     "start_time": "2023-12-23T23:04:21.974961786Z"
    }
   },
   "outputs": [],
   "source": [
    "df.head(10)"
   ]
  },
  {
   "cell_type": "markdown",
   "id": "welsh-barrier",
   "metadata": {},
   "source": [
    "**Task: Check the datatype of all entries**"
   ]
  },
  {
   "cell_type": "code",
   "execution_count": null,
   "id": "modified-hypothesis",
   "metadata": {
    "ExecuteTime": {
     "start_time": "2023-12-23T23:04:21.975107635Z"
    }
   },
   "outputs": [],
   "source": [
    "# CODE HERE"
   ]
  },
  {
   "cell_type": "code",
   "execution_count": null,
   "id": "bronze-intelligence",
   "metadata": {
    "scrolled": true,
    "ExecuteTime": {
     "start_time": "2023-12-23T23:04:21.991294510Z"
    }
   },
   "outputs": [],
   "source": [
    "df.info()"
   ]
  },
  {
   "cell_type": "markdown",
   "id": "healthy-complex",
   "metadata": {},
   "source": [
    "**Task: Plot the Adjusted Closing price of the SP500, with the price on the y axis and the year on the x axis. Use Locator() and Formatter() techniques to configure the plot x axis so that you can see a tick for every year in the dataset (only showing the year number, not the full YYYY-MM-DD that is the default). Choose a reasonable figure size, set the dpi to 300 and save this plot in your working directory as sp500.png**"
   ]
  },
  {
   "cell_type": "code",
   "execution_count": null,
   "id": "stuffed-bridges",
   "metadata": {
    "ExecuteTime": {
     "end_time": "2023-12-23T23:04:22.038211622Z",
     "start_time": "2023-12-23T23:04:21.991459525Z"
    }
   },
   "outputs": [],
   "source": [
    "# CODE HERE"
   ]
  },
  {
   "cell_type": "code",
   "execution_count": null,
   "id": "injured-explosion",
   "metadata": {
    "ExecuteTime": {
     "start_time": "2023-12-23T23:04:21.991537055Z"
    }
   },
   "outputs": [],
   "source": [
    "\n",
    "from matplotlib import dates\n",
    "\n",
    "plt.figure(figsize=(14, 8), dpi=300)\n",
    "ax = df[\"Adj Close\"].plot()\n",
    "\n",
    "ax.xaxis.set_major_locator(dates.YearLocator())\n",
    "ax.xaxis.set_major_formatter(dates.DateFormatter(\"%Y\"))\n",
    "\n",
    "plt.savefig(\"sp500.png\")"
   ]
  },
  {
   "cell_type": "markdown",
   "id": "pressed-modern",
   "metadata": {},
   "source": [
    "**Task: Create a histogram of the daily volume of shares of SPY traded. Choose a reasonable bin size.**"
   ]
  },
  {
   "cell_type": "code",
   "execution_count": null,
   "id": "genuine-given",
   "metadata": {
    "ExecuteTime": {
     "start_time": "2023-12-23T23:04:21.991610434Z"
    }
   },
   "outputs": [],
   "source": [
    "# CODE HERE"
   ]
  },
  {
   "cell_type": "code",
   "execution_count": null,
   "id": "classical-scoop",
   "metadata": {
    "ExecuteTime": {
     "start_time": "2023-12-23T23:04:21.991681148Z"
    }
   },
   "outputs": [],
   "source": [
    "df[\"Volume\"].hist(bins=50)"
   ]
  },
  {
   "cell_type": "markdown",
   "id": "tracked-chorus",
   "metadata": {},
   "source": [
    "**Task: Let's explore the crash and recovery of 2020 due to the COVID pandemic. Create a line plot of the Adj. Close price from 1-1-2020 to 1-1-2021. The xaxis ticks should be formatted by YYYY-MM**"
   ]
  },
  {
   "cell_type": "code",
   "execution_count": null,
   "id": "handled-shift",
   "metadata": {
    "ExecuteTime": {
     "start_time": "2023-12-23T23:04:21.991775993Z"
    }
   },
   "outputs": [],
   "source": [
    "# CODE HERE"
   ]
  },
  {
   "cell_type": "code",
   "execution_count": null,
   "id": "broken-accordance",
   "metadata": {
    "ExecuteTime": {
     "start_time": "2023-12-23T23:04:21.991849749Z"
    }
   },
   "outputs": [],
   "source": [
    "from matplotlib import dates\n",
    "plt.figure(figsize=(14, 10), dpi=300)\n",
    "ax = df[\"Adj Close\"].plot(xlim=['2020-01-01','2021-01-01'])\n",
    "ax.xaxis.set_major_locator(dates.MonthLocator())"
   ]
  },
  {
   "cell_type": "markdown",
   "id": "correct-forestry",
   "metadata": {},
   "source": [
    "**Task: Create a plot whichs shows the adjusted closing price of SPY for the entire length of the time series along with an added trend line of the corresponding 200 days rolling mean of the adj. close price. Make sure to add a legend that identifies each line.** "
   ]
  },
  {
   "cell_type": "code",
   "execution_count": null,
   "id": "agricultural-profile",
   "metadata": {
    "ExecuteTime": {
     "start_time": "2023-12-23T23:04:21.991966126Z"
    }
   },
   "outputs": [],
   "source": [
    "#CODE HERE"
   ]
  },
  {
   "cell_type": "code",
   "execution_count": null,
   "id": "proved-parliament",
   "metadata": {
    "ExecuteTime": {
     "start_time": "2023-12-23T23:04:22.032012422Z"
    }
   },
   "outputs": [],
   "source": [
    "plt.figure()\n",
    "df[\"Adj Close\"].plot(figsize=(14, 10),label='Adj Close')\n",
    "df[\"Adj Close\"].rolling(200).mean().plot(label='200 MA of Adj Close')\n",
    "plt.legend()"
   ]
  },
  {
   "cell_type": "markdown",
   "id": "laden-anchor",
   "metadata": {},
   "source": [
    "**Task: If you bought one share at the start of the time series on Jan 1st 2000, how much money would you have gained (in Adj. Close Dollar amount) by Jan 1st 2021?**\n",
    "\n",
    "Take the adjusted closing price as reference"
   ]
  },
  {
   "cell_type": "code",
   "execution_count": null,
   "id": "native-median",
   "metadata": {
    "ExecuteTime": {
     "start_time": "2023-12-23T23:04:22.032188033Z"
    }
   },
   "outputs": [],
   "source": [
    "# CODE HERE"
   ]
  },
  {
   "cell_type": "code",
   "execution_count": null,
   "id": "acceptable-posting",
   "metadata": {
    "ExecuteTime": {
     "start_time": "2023-12-23T23:04:22.032267236Z"
    }
   },
   "outputs": [],
   "source": [
    "df.iloc[-1][\"Adj Close\"] - df.iloc[0][\"Adj Close\"]"
   ]
  },
  {
   "cell_type": "markdown",
   "id": "changed-fighter",
   "metadata": {},
   "source": [
    "**Task: What was the percent increase in value (based on Adj. Close price) from Jan 1st, 2000 to Jan 1st 2021?**"
   ]
  },
  {
   "cell_type": "code",
   "execution_count": null,
   "id": "collective-christian",
   "metadata": {
    "ExecuteTime": {
     "start_time": "2023-12-23T23:04:22.032338450Z"
    }
   },
   "outputs": [],
   "source": [
    "# CODE HERE"
   ]
  },
  {
   "cell_type": "code",
   "execution_count": 3,
   "id": "emotional-division",
   "metadata": {
    "ExecuteTime": {
     "start_time": "2023-12-23T23:04:22.032420813Z"
    }
   },
   "outputs": [
    {
     "ename": "NameError",
     "evalue": "name 'df' is not defined",
     "output_type": "error",
     "traceback": [
      "\u001B[0;31m---------------------------------------------------------------------------\u001B[0m",
      "\u001B[0;31mNameError\u001B[0m                                 Traceback (most recent call last)",
      "Cell \u001B[0;32mIn[3], line 1\u001B[0m\n\u001B[0;32m----> 1\u001B[0m \u001B[38;5;241m100\u001B[39m \u001B[38;5;241m*\u001B[39m (\u001B[43mdf\u001B[49m\u001B[38;5;241m.\u001B[39miloc[\u001B[38;5;241m-\u001B[39m\u001B[38;5;241m1\u001B[39m][\u001B[38;5;124m'\u001B[39m\u001B[38;5;124mAdj Close\u001B[39m\u001B[38;5;124m'\u001B[39m] \u001B[38;5;241m-\u001B[39m df\u001B[38;5;241m.\u001B[39miloc[\u001B[38;5;241m0\u001B[39m][\u001B[38;5;124m'\u001B[39m\u001B[38;5;124mAdj Close\u001B[39m\u001B[38;5;124m'\u001B[39m]) \u001B[38;5;241m/\u001B[39m df\u001B[38;5;241m.\u001B[39miloc[\u001B[38;5;241m0\u001B[39m][\u001B[38;5;124m'\u001B[39m\u001B[38;5;124mAdj Close\u001B[39m\u001B[38;5;124m'\u001B[39m]\n",
      "\u001B[0;31mNameError\u001B[0m: name 'df' is not defined"
     ]
    }
   ],
   "source": [
    "100 * (df.iloc[-1]['Adj Close'] - df.iloc[0]['Adj Close']) / df.iloc[0]['Adj Close']"
   ]
  },
  {
   "cell_type": "markdown",
   "id": "divine-syndication",
   "metadata": {},
   "source": [
    "**Task: Return the 10 dates with the largest gain for the SPY.**"
   ]
  },
  {
   "cell_type": "code",
   "execution_count": null,
   "id": "pacific-noise",
   "metadata": {
    "ExecuteTime": {
     "start_time": "2023-12-23T23:04:22.032568422Z"
    }
   },
   "outputs": [],
   "source": [
    "# CODE HERE"
   ]
  },
  {
   "cell_type": "code",
   "execution_count": 4,
   "id": "disturbed-bullet",
   "metadata": {
    "ExecuteTime": {
     "end_time": "2023-12-23T23:04:22.348751211Z",
     "start_time": "2023-12-23T23:04:22.212411358Z"
    }
   },
   "outputs": [
    {
     "ename": "NameError",
     "evalue": "name 'df' is not defined",
     "output_type": "error",
     "traceback": [
      "\u001B[0;31m---------------------------------------------------------------------------\u001B[0m",
      "\u001B[0;31mNameError\u001B[0m                                 Traceback (most recent call last)",
      "Cell \u001B[0;32mIn[4], line 1\u001B[0m\n\u001B[0;32m----> 1\u001B[0m \u001B[43mdf\u001B[49m[\u001B[38;5;124m'\u001B[39m\u001B[38;5;124mAdj Close\u001B[39m\u001B[38;5;124m'\u001B[39m]\u001B[38;5;241m.\u001B[39mpct_change(\u001B[38;5;241m1\u001B[39m)\u001B[38;5;241m.\u001B[39msort_values(ascending\u001B[38;5;241m=\u001B[39m\u001B[38;5;28;01mFalse\u001B[39;00m)\u001B[38;5;241m.\u001B[39mhead(\u001B[38;5;241m10\u001B[39m)\n",
      "\u001B[0;31mNameError\u001B[0m: name 'df' is not defined"
     ]
    }
   ],
   "source": [
    "df['Adj Close'].pct_change(1).sort_values(ascending=False).head(10)"
   ]
  },
  {
   "cell_type": "markdown",
   "id": "07fd54d2",
   "metadata": {},
   "source": [
    "**TASK: What were the 10 dates with the highest daily percent change from the previous day (either gain OR decrease).**"
   ]
  },
  {
   "cell_type": "code",
   "execution_count": 5,
   "id": "9a0a3542",
   "metadata": {
    "ExecuteTime": {
     "end_time": "2023-12-23T23:04:22.365515568Z",
     "start_time": "2023-12-23T23:04:22.296987110Z"
    }
   },
   "outputs": [],
   "source": [
    "#CODE HERE"
   ]
  },
  {
   "cell_type": "code",
   "execution_count": 6,
   "id": "c9cd5e37",
   "metadata": {
    "ExecuteTime": {
     "end_time": "2023-12-23T23:04:22.464052159Z",
     "start_time": "2023-12-23T23:04:22.376722181Z"
    }
   },
   "outputs": [
    {
     "ename": "NameError",
     "evalue": "name 'df' is not defined",
     "output_type": "error",
     "traceback": [
      "\u001B[0;31m---------------------------------------------------------------------------\u001B[0m",
      "\u001B[0;31mNameError\u001B[0m                                 Traceback (most recent call last)",
      "Cell \u001B[0;32mIn[6], line 1\u001B[0m\n\u001B[0;32m----> 1\u001B[0m \u001B[43mdf\u001B[49m[\u001B[38;5;124m'\u001B[39m\u001B[38;5;124mAdj Close\u001B[39m\u001B[38;5;124m'\u001B[39m]\u001B[38;5;241m.\u001B[39mpct_change(\u001B[38;5;241m1\u001B[39m)\u001B[38;5;241m.\u001B[39mabs()\u001B[38;5;241m.\u001B[39msort_values(ascending\u001B[38;5;241m=\u001B[39m\u001B[38;5;28;01mFalse\u001B[39;00m)\u001B[38;5;241m.\u001B[39mhead(\u001B[38;5;241m10\u001B[39m)\n",
      "\u001B[0;31mNameError\u001B[0m: name 'df' is not defined"
     ]
    }
   ],
   "source": [
    "df['Adj Close'].pct_change(1).abs().sort_values(ascending=False).head(10)"
   ]
  },
  {
   "cell_type": "markdown",
   "id": "million-patent",
   "metadata": {},
   "source": [
    "**Task: For each year in the dataset, find the Maximum Adj. Close price that SPY reached for that year.**"
   ]
  },
  {
   "cell_type": "code",
   "execution_count": 7,
   "id": "colored-michael",
   "metadata": {
    "ExecuteTime": {
     "end_time": "2023-12-23T23:04:22.530100138Z",
     "start_time": "2023-12-23T23:04:22.446914834Z"
    }
   },
   "outputs": [],
   "source": [
    "# CODE HERE"
   ]
  },
  {
   "cell_type": "code",
   "execution_count": 8,
   "id": "daily-revelation",
   "metadata": {
    "ExecuteTime": {
     "end_time": "2023-12-23T23:04:22.543464975Z",
     "start_time": "2023-12-23T23:04:22.515923329Z"
    }
   },
   "outputs": [
    {
     "ename": "NameError",
     "evalue": "name 'df' is not defined",
     "output_type": "error",
     "traceback": [
      "\u001B[0;31m---------------------------------------------------------------------------\u001B[0m",
      "\u001B[0;31mNameError\u001B[0m                                 Traceback (most recent call last)",
      "Cell \u001B[0;32mIn[8], line 1\u001B[0m\n\u001B[0;32m----> 1\u001B[0m \u001B[43mdf\u001B[49m[\u001B[38;5;124m\"\u001B[39m\u001B[38;5;124mAdj Close\u001B[39m\u001B[38;5;124m\"\u001B[39m]\u001B[38;5;241m.\u001B[39mresample(\u001B[38;5;124m\"\u001B[39m\u001B[38;5;124mY\u001B[39m\u001B[38;5;124m\"\u001B[39m)\u001B[38;5;241m.\u001B[39mmax()\n",
      "\u001B[0;31mNameError\u001B[0m: name 'df' is not defined"
     ]
    }
   ],
   "source": [
    "df[\"Adj Close\"].resample(\"Y\").max()"
   ]
  },
  {
   "cell_type": "markdown",
   "id": "quality-husband",
   "metadata": {},
   "source": [
    "**Task: What was the day with the lowest adjusted closing price in 2020? (and what was this price)** \n",
    "\n",
    "Hint: Check out idxmin()"
   ]
  },
  {
   "cell_type": "code",
   "execution_count": 9,
   "id": "sticky-elder",
   "metadata": {
    "ExecuteTime": {
     "end_time": "2023-12-23T23:04:22.608084232Z",
     "start_time": "2023-12-23T23:04:22.535664861Z"
    }
   },
   "outputs": [],
   "source": [
    "# CODE HERE"
   ]
  },
  {
   "cell_type": "code",
   "execution_count": 10,
   "id": "commercial-backup",
   "metadata": {
    "ExecuteTime": {
     "end_time": "2023-12-23T23:04:22.616802814Z",
     "start_time": "2023-12-23T23:04:22.591941538Z"
    }
   },
   "outputs": [
    {
     "ename": "NameError",
     "evalue": "name 'df' is not defined",
     "output_type": "error",
     "traceback": [
      "\u001B[0;31m---------------------------------------------------------------------------\u001B[0m",
      "\u001B[0;31mNameError\u001B[0m                                 Traceback (most recent call last)",
      "Cell \u001B[0;32mIn[10], line 1\u001B[0m\n\u001B[0;32m----> 1\u001B[0m \u001B[43mdf\u001B[49m\u001B[38;5;241m.\u001B[39mloc[\u001B[38;5;124m\"\u001B[39m\u001B[38;5;124m2020\u001B[39m\u001B[38;5;124m\"\u001B[39m][\u001B[38;5;124m\"\u001B[39m\u001B[38;5;124mAdj Close\u001B[39m\u001B[38;5;124m\"\u001B[39m]\u001B[38;5;241m.\u001B[39midxmin()\n",
      "\u001B[0;31mNameError\u001B[0m: name 'df' is not defined"
     ]
    }
   ],
   "source": [
    "df.loc[\"2020\"][\"Adj Close\"].idxmin()"
   ]
  },
  {
   "cell_type": "code",
   "execution_count": 11,
   "id": "327f2cca",
   "metadata": {
    "ExecuteTime": {
     "end_time": "2023-12-23T23:04:22.686715944Z",
     "start_time": "2023-12-23T23:04:22.618309223Z"
    }
   },
   "outputs": [
    {
     "ename": "NameError",
     "evalue": "name 'df' is not defined",
     "output_type": "error",
     "traceback": [
      "\u001B[0;31m---------------------------------------------------------------------------\u001B[0m",
      "\u001B[0;31mNameError\u001B[0m                                 Traceback (most recent call last)",
      "Cell \u001B[0;32mIn[11], line 1\u001B[0m\n\u001B[0;32m----> 1\u001B[0m \u001B[43mdf\u001B[49m\u001B[38;5;241m.\u001B[39mloc[\u001B[38;5;124m\"\u001B[39m\u001B[38;5;124m2020\u001B[39m\u001B[38;5;124m\"\u001B[39m][\u001B[38;5;124m\"\u001B[39m\u001B[38;5;124mAdj Close\u001B[39m\u001B[38;5;124m\"\u001B[39m]\u001B[38;5;241m.\u001B[39mmin()\n",
      "\u001B[0;31mNameError\u001B[0m: name 'df' is not defined"
     ]
    }
   ],
   "source": [
    "df.loc[\"2020\"][\"Adj Close\"].min()"
   ]
  },
  {
   "cell_type": "markdown",
   "id": "aggregate-bankruptcy",
   "metadata": {},
   "source": [
    "**Task: In 2020, due to the uncertainty of the COVID-19 pandemic, the S&P500 index experienced a large drop in March of 2020. What was the highest price reached in 2020 *before* April 1st, 2020.**"
   ]
  },
  {
   "cell_type": "code",
   "execution_count": null,
   "id": "surprising-pixel",
   "metadata": {
    "ExecuteTime": {
     "start_time": "2023-12-23T23:04:22.672164364Z"
    }
   },
   "outputs": [],
   "source": [
    "# CODE HERE"
   ]
  },
  {
   "cell_type": "code",
   "execution_count": 12,
   "id": "determined-hardware",
   "metadata": {
    "ExecuteTime": {
     "end_time": "2023-12-23T23:04:22.794517538Z",
     "start_time": "2023-12-23T23:04:22.706078967Z"
    }
   },
   "outputs": [
    {
     "ename": "NameError",
     "evalue": "name 'df' is not defined",
     "output_type": "error",
     "traceback": [
      "\u001B[0;31m---------------------------------------------------------------------------\u001B[0m",
      "\u001B[0;31mNameError\u001B[0m                                 Traceback (most recent call last)",
      "Cell \u001B[0;32mIn[12], line 1\u001B[0m\n\u001B[0;32m----> 1\u001B[0m highest_price_date \u001B[38;5;241m=\u001B[39m \u001B[43mdf\u001B[49m\u001B[38;5;241m.\u001B[39mloc[\u001B[38;5;124m\"\u001B[39m\u001B[38;5;124m2020-01-01\u001B[39m\u001B[38;5;124m\"\u001B[39m:\u001B[38;5;124m\"\u001B[39m\u001B[38;5;124m2020-04-01\u001B[39m\u001B[38;5;124m\"\u001B[39m][\u001B[38;5;124m\"\u001B[39m\u001B[38;5;124mAdj Close\u001B[39m\u001B[38;5;124m\"\u001B[39m]\u001B[38;5;241m.\u001B[39midxmax()\n\u001B[1;32m      2\u001B[0m highest_price_date\n",
      "\u001B[0;31mNameError\u001B[0m: name 'df' is not defined"
     ]
    }
   ],
   "source": [
    "highest_price_date = df.loc[\"2020-01-01\":\"2020-04-01\"][\"Adj Close\"].idxmax()\n",
    "highest_price_date"
   ]
  },
  {
   "cell_type": "code",
   "execution_count": null,
   "id": "perfect-bridal",
   "metadata": {
    "ExecuteTime": {
     "start_time": "2023-12-23T23:04:22.752163171Z"
    }
   },
   "outputs": [],
   "source": [
    "first_peak_price = df.loc[\"2020-01-01\":\"2020-04-01\"][\"Adj Close\"].max()\n",
    "first_peak_price"
   ]
  },
  {
   "cell_type": "markdown",
   "id": "racial-dutch",
   "metadata": {},
   "source": [
    "**Task: Due to central bank and government actions, the S&P500 had one of the quickest recoveries in history after the crash of March 2020. How long did it take (in days) to reach the peak price the S&P 500 was at before the crash in March? In other words, based on your previous task of finding the peak price before the crash, how long did it take for the market to recover to its pre-crash price level?**\n",
    "\n",
    "Hint: You can subtract datetime timestamps from each other"
   ]
  },
  {
   "cell_type": "code",
   "execution_count": 13,
   "id": "central-constraint",
   "metadata": {
    "ExecuteTime": {
     "end_time": "2023-12-23T23:04:22.885894154Z",
     "start_time": "2023-12-23T23:04:22.814782511Z"
    }
   },
   "outputs": [
    {
     "ename": "NameError",
     "evalue": "name 'df' is not defined",
     "output_type": "error",
     "traceback": [
      "\u001B[0;31m---------------------------------------------------------------------------\u001B[0m",
      "\u001B[0;31mNameError\u001B[0m                                 Traceback (most recent call last)",
      "Cell \u001B[0;32mIn[13], line 1\u001B[0m\n\u001B[0;32m----> 1\u001B[0m df_after_crash \u001B[38;5;241m=\u001B[39m \u001B[43mdf\u001B[49m\u001B[38;5;241m.\u001B[39mloc[\u001B[38;5;124m\"\u001B[39m\u001B[38;5;124m2020-04-01\u001B[39m\u001B[38;5;124m\"\u001B[39m:][\u001B[38;5;124m\"\u001B[39m\u001B[38;5;124mAdj Close\u001B[39m\u001B[38;5;124m\"\u001B[39m]\n",
      "\u001B[0;31mNameError\u001B[0m: name 'df' is not defined"
     ]
    }
   ],
   "source": [
    "df_after_crash = df.loc[\"2020-04-01\":][\"Adj Close\"]"
   ]
  },
  {
   "cell_type": "code",
   "execution_count": null,
   "id": "eec5104c",
   "metadata": {
    "scrolled": true,
    "ExecuteTime": {
     "start_time": "2023-12-23T23:04:22.856054414Z"
    }
   },
   "outputs": [],
   "source": [
    "df_after_crash[df_after_crash > first_peak_price]"
   ]
  },
  {
   "cell_type": "code",
   "execution_count": 14,
   "id": "5d7804d1",
   "metadata": {
    "ExecuteTime": {
     "start_time": "2023-12-23T23:04:22.885003995Z"
    }
   },
   "outputs": [
    {
     "ename": "NameError",
     "evalue": "name 'df_after_crash' is not defined",
     "output_type": "error",
     "traceback": [
      "\u001B[0;31m---------------------------------------------------------------------------\u001B[0m",
      "\u001B[0;31mNameError\u001B[0m                                 Traceback (most recent call last)",
      "Cell \u001B[0;32mIn[14], line 1\u001B[0m\n\u001B[0;32m----> 1\u001B[0m \u001B[43mdf_after_crash\u001B[49m[df_after_crash \u001B[38;5;241m>\u001B[39m first_peak_price]\u001B[38;5;241m.\u001B[39miloc[\u001B[38;5;241m0\u001B[39m]\n",
      "\u001B[0;31mNameError\u001B[0m: name 'df_after_crash' is not defined"
     ]
    }
   ],
   "source": [
    "df_after_crash[df_after_crash > first_peak_price].iloc[0]"
   ]
  },
  {
   "cell_type": "code",
   "execution_count": 15,
   "id": "electoral-cuisine",
   "metadata": {
    "ExecuteTime": {
     "end_time": "2023-12-23T23:04:22.985463446Z",
     "start_time": "2023-12-23T23:04:22.920968686Z"
    }
   },
   "outputs": [
    {
     "ename": "NameError",
     "evalue": "name 'highest_price_date' is not defined",
     "output_type": "error",
     "traceback": [
      "\u001B[0;31m---------------------------------------------------------------------------\u001B[0m",
      "\u001B[0;31mNameError\u001B[0m                                 Traceback (most recent call last)",
      "Cell \u001B[0;32mIn[15], line 1\u001B[0m\n\u001B[0;32m----> 1\u001B[0m \u001B[43mhighest_price_date\u001B[49m\n",
      "\u001B[0;31mNameError\u001B[0m: name 'highest_price_date' is not defined"
     ]
    }
   ],
   "source": [
    "highest_price_date"
   ]
  },
  {
   "cell_type": "code",
   "execution_count": null,
   "id": "24ddce8d",
   "metadata": {
    "ExecuteTime": {
     "start_time": "2023-12-23T23:04:22.964363206Z"
    }
   },
   "outputs": [],
   "source": [
    "df_after_crash[df_after_crash > first_peak_price].index[0] - highest_price_date"
   ]
  }
 ],
 "metadata": {
  "kernelspec": {
   "display_name": "Python 3",
   "language": "python",
   "name": "python3"
  },
  "language_info": {
   "codemirror_mode": {
    "name": "ipython",
    "version": 3
   },
   "file_extension": ".py",
   "mimetype": "text/x-python",
   "name": "python",
   "nbconvert_exporter": "python",
   "pygments_lexer": "ipython3",
   "version": "3.7.0"
  }
 },
 "nbformat": 4,
 "nbformat_minor": 5
}
